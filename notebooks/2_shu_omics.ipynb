{
 "cells": [
  {
   "cell_type": "markdown",
   "id": "2bb8d068-55e7-4dc9-b465-c17a3c4931cc",
   "metadata": {
    "execution": {
     "iopub.execute_input": "2023-02-09T15:16:36.310503Z",
     "iopub.status.busy": "2023-02-09T15:16:36.308968Z",
     "iopub.status.idle": "2023-02-09T15:16:36.327965Z",
     "shell.execute_reply": "2023-02-09T15:16:36.324895Z",
     "shell.execute_reply.started": "2023-02-09T15:16:36.310125Z"
    }
   },
   "source": [
    "# Case study 2: _Clostridium autoethanogenum_ metabolomics, proteomics and FBA\n",
    "\n",
    "- The metabolomics comes from [Valgepea et al., 2018](https://doi.org/10.1186/s13068-018-1052-9).\n",
    "- The proteomics was taken from [Valgepea et al., 2022](https://doi.org/10.1128/msystems.00026-22)."
   ]
  },
  {
   "cell_type": "code",
   "execution_count": 1,
   "id": "240246fe-43c8-496e-9615-5f6c9ded778c",
   "metadata": {
    "execution": {
     "iopub.execute_input": "2023-08-02T14:39:45.050762Z",
     "iopub.status.busy": "2023-08-02T14:39:45.050485Z",
     "iopub.status.idle": "2023-08-02T14:39:46.310330Z",
     "shell.execute_reply": "2023-08-02T14:39:46.309676Z",
     "shell.execute_reply.started": "2023-08-02T14:39:45.050701Z"
    },
    "tags": []
   },
   "outputs": [],
   "source": [
    "import json\n",
    "from pathlib import Path\n",
    "\n",
    "import cobra\n",
    "import geckopy\n",
    "import ggshu\n",
    "import numpy as np\n",
    "import pandas as pd\n",
    "from cobra.sampling import sample"
   ]
  },
  {
   "cell_type": "code",
   "execution_count": 2,
   "id": "395658ab-a480-47fd-8c12-1abe67cda508",
   "metadata": {
    "execution": {
     "iopub.execute_input": "2023-08-02T14:39:46.311187Z",
     "iopub.status.busy": "2023-08-02T14:39:46.310931Z",
     "iopub.status.idle": "2023-08-02T14:39:46.314597Z",
     "shell.execute_reply": "2023-08-02T14:39:46.313816Z",
     "shell.execute_reply.started": "2023-08-02T14:39:46.311168Z"
    }
   },
   "outputs": [],
   "source": [
    "import os"
   ]
  },
  {
   "cell_type": "code",
   "execution_count": 3,
   "id": "31a5042f-389b-4189-a39a-8d98bc33b160",
   "metadata": {
    "execution": {
     "iopub.execute_input": "2023-08-02T14:39:46.317193Z",
     "iopub.status.busy": "2023-08-02T14:39:46.316565Z",
     "iopub.status.idle": "2023-08-02T14:39:48.311660Z",
     "shell.execute_reply": "2023-08-02T14:39:48.310911Z",
     "shell.execute_reply.started": "2023-08-02T14:39:46.317166Z"
    },
    "tags": []
   },
   "outputs": [
    {
     "name": "stdout",
     "output_type": "stream",
     "text": [
      "Scaling...\n",
      " A: min|aij| =  1.000e+00  max|aij| =  1.000e+00  ratio =  1.000e+00\n",
      "Problem data seem to be well scaled\n"
     ]
    }
   ],
   "source": [
    "model = cobra.io.read_sbml_model(\"../models/iCLAU786.xml\")"
   ]
  },
  {
   "cell_type": "code",
   "execution_count": 4,
   "id": "cefeb160-6130-44f1-8133-531c8344b853",
   "metadata": {
    "execution": {
     "iopub.execute_input": "2023-08-02T14:39:48.334854Z",
     "iopub.status.busy": "2023-08-02T14:39:48.334510Z",
     "iopub.status.idle": "2023-08-02T14:39:48.416935Z",
     "shell.execute_reply": "2023-08-02T14:39:48.416419Z",
     "shell.execute_reply.started": "2023-08-02T14:39:48.334820Z"
    },
    "tags": []
   },
   "outputs": [
    {
     "data": {
      "text/plain": [
       "0.652234986862141"
      ]
     },
     "execution_count": 4,
     "metadata": {},
     "output_type": "execute_result"
    }
   ],
   "source": [
    "model.slim_optimize()"
   ]
  },
  {
   "cell_type": "markdown",
   "id": "3096de39-7d17-4c75-a31d-1c70da4bc258",
   "metadata": {},
   "source": [
    "## 1. Flux sampling"
   ]
  },
  {
   "cell_type": "markdown",
   "id": "e6244088-f6a4-42ab-b263-635cbcbea542",
   "metadata": {},
   "source": [
    "We will use the Genome-scale Metabolic (GEM) model to perform flux sampling."
   ]
  },
  {
   "cell_type": "markdown",
   "id": "c17d54eb-b7d3-4368-8c4e-b1eadcd8b0a9",
   "metadata": {},
   "source": [
    "First, a function to merge two dataframes that we will use to join proteomics and fluxes and another function to prepare the experimental conditions of the GEM."
   ]
  },
  {
   "cell_type": "code",
   "execution_count": 5,
   "id": "5d7343b1-0dc3-4ed1-ad17-24783bb7f324",
   "metadata": {
    "execution": {
     "iopub.execute_input": "2023-08-02T14:39:48.418094Z",
     "iopub.status.busy": "2023-08-02T14:39:48.417680Z",
     "iopub.status.idle": "2023-08-02T14:39:48.427192Z",
     "shell.execute_reply": "2023-08-02T14:39:48.426371Z",
     "shell.execute_reply.started": "2023-08-02T14:39:48.418071Z"
    },
    "tags": []
   },
   "outputs": [],
   "source": [
    "def apply_base_conditions(model: cobra.Model, exchange_groups_path: Path):\n",
    "    \"\"\"Apply base conditions in-place.\"\"\"\n",
    "    with open(exchange_groups_path) as file:\n",
    "        reac_groups = json.load(file)\n",
    "    for ex in reac_groups[\"influx\"]:\n",
    "        if ex in model.reactions:\n",
    "            if model.reactions.get_by_id(ex).lower_bound < 0:\n",
    "                model.reactions.get_by_id(ex).upper_bound = 0\n",
    "            else:\n",
    "                model.reactions.get_by_id(ex).bounds = 0, 0\n",
    "    for ex in reac_groups[\"outflux\"]:\n",
    "        if ex in model.reactions:\n",
    "            if model.reactions.get_by_id(ex).upper_bound > 0:\n",
    "                model.reactions.get_by_id(ex).lower_bound = 0\n",
    "            else:\n",
    "                model.reactions.get_by_id(ex).bounds = 0, 0\n",
    "    for ex in list(reac_groups[\"substrates\"]) + list(reac_groups[\"aminoacids\"]):\n",
    "        if ex in model.reactions:\n",
    "            model.reactions.get_by_id(ex).lower_bound = 0"
   ]
  },
  {
   "cell_type": "markdown",
   "id": "b0c2fba2-b603-4c26-add1-27c3fb691a16",
   "metadata": {},
   "source": [
    "Since there are three conditions, the model has to be constrained with the particular exchanges that represent the media and then sampled."
   ]
  },
  {
   "cell_type": "markdown",
   "id": "479befc9-ea34-4991-a96f-a15a1657d084",
   "metadata": {},
   "source": [
    "In preparation for the identifier translation, first we will get the identifiers on the map."
   ]
  },
  {
   "cell_type": "code",
   "execution_count": 6,
   "id": "5a3a965a-bc39-4838-ac21-6967a42372a8",
   "metadata": {
    "execution": {
     "iopub.execute_input": "2023-08-02T14:39:48.429144Z",
     "iopub.status.busy": "2023-08-02T14:39:48.428446Z",
     "iopub.status.idle": "2023-08-02T14:39:48.435303Z",
     "shell.execute_reply": "2023-08-02T14:39:48.434638Z",
     "shell.execute_reply.started": "2023-08-02T14:39:48.429103Z"
    },
    "tags": []
   },
   "outputs": [],
   "source": [
    "with open(\"../maps/cauto_map.json\") as f:\n",
    "    metabolic_map = json.load(f)[\"metabolism\"]"
   ]
  },
  {
   "cell_type": "code",
   "execution_count": 7,
   "id": "877e8ade-c78a-4931-b99a-b5d79c9eafb6",
   "metadata": {
    "execution": {
     "iopub.execute_input": "2023-08-02T14:39:48.436400Z",
     "iopub.status.busy": "2023-08-02T14:39:48.436131Z",
     "iopub.status.idle": "2023-08-02T14:39:48.439787Z",
     "shell.execute_reply": "2023-08-02T14:39:48.439199Z",
     "shell.execute_reply.started": "2023-08-02T14:39:48.436376Z"
    },
    "tags": []
   },
   "outputs": [],
   "source": [
    "reacs_in_map = {v[\"bigg_id\"] for v in metabolic_map[\"reactions\"].values()}"
   ]
  },
  {
   "cell_type": "markdown",
   "id": "9e57eb0b-653f-45ac-ab5f-c3fba91c480e",
   "metadata": {},
   "source": [
    "Let's gather the identifiers in the model."
   ]
  },
  {
   "cell_type": "code",
   "execution_count": 8,
   "id": "5fcf22dc-bac9-4a43-b75f-d2841150664f",
   "metadata": {
    "execution": {
     "iopub.execute_input": "2023-08-02T14:39:48.441030Z",
     "iopub.status.busy": "2023-08-02T14:39:48.440539Z",
     "iopub.status.idle": "2023-08-02T14:39:48.446609Z",
     "shell.execute_reply": "2023-08-02T14:39:48.445966Z",
     "shell.execute_reply.started": "2023-08-02T14:39:48.441005Z"
    },
    "tags": []
   },
   "outputs": [],
   "source": [
    "model_to_map = {\n",
    "    reac.id: reac.id\n",
    "    if \"bigg.reaction\" not in reac.annotation\n",
    "    else reac.annotation[\"bigg.reaction\"]\n",
    "    if isinstance(reac.annotation[\"bigg.reaction\"], str)\n",
    "    else reac.annotation[\"bigg.reaction\"][0]\n",
    "    for reac in model.reactions\n",
    "}"
   ]
  },
  {
   "cell_type": "code",
   "execution_count": 9,
   "id": "45335ef9-0099-414e-bcbe-9fb33ccd5ab1",
   "metadata": {
    "execution": {
     "iopub.execute_input": "2023-08-02T14:39:48.448548Z",
     "iopub.status.busy": "2023-08-02T14:39:48.447769Z",
     "iopub.status.idle": "2023-08-02T14:39:48.453036Z",
     "shell.execute_reply": "2023-08-02T14:39:48.452300Z",
     "shell.execute_reply.started": "2023-08-02T14:39:48.448507Z"
    },
    "tags": []
   },
   "outputs": [],
   "source": [
    "map_to_model = {v: k for k, v in model_to_map.items()}"
   ]
  },
  {
   "cell_type": "markdown",
   "id": "744e30dd-50d9-46bd-a7d5-55f9cfa5fc77",
   "metadata": {},
   "source": [
    "### CO"
   ]
  },
  {
   "cell_type": "code",
   "execution_count": 10,
   "id": "33aa98eb-1eea-4817-a533-302044bd2389",
   "metadata": {
    "execution": {
     "iopub.execute_input": "2023-08-02T14:39:48.454129Z",
     "iopub.status.busy": "2023-08-02T14:39:48.453879Z",
     "iopub.status.idle": "2023-08-02T14:39:48.459261Z",
     "shell.execute_reply": "2023-08-02T14:39:48.458671Z",
     "shell.execute_reply.started": "2023-08-02T14:39:48.454107Z"
    },
    "tags": []
   },
   "outputs": [],
   "source": [
    "model.reactions.get_by_id(\"cpd11640_ext_b\").bounds = (\n",
    "    0.47,\n",
    "    0.47,\n",
    ")  #   H2\n",
    "model.reactions.get_by_id(\"cpd00204_ext_b\").bounds = -34.57, -34.57  # CO\n",
    "model.reactions.get_by_id(\"cpd00084_ext_b\").bounds = -0.07, 1000  # Cysteine\n",
    "model.reactions.get_by_id(\"cpd00011_ext_b\").bounds = 21.27, 21.27  # CO2\n",
    "model.reactions.get_by_id(\"cpd00029_ext_b\").bounds = 3.21, 1000  # Acetate\n",
    "model.reactions.get_by_id(\"cpd00363_ext_b\").bounds = 2.57, 1000  # Ethanol\n",
    "model.reactions.get_by_id(\"cpd01947_ext_b\").bounds = 0.06, 1000  # BDOH"
   ]
  },
  {
   "cell_type": "code",
   "execution_count": 11,
   "id": "4193497f-d933-4a39-a5b1-11ebda730d18",
   "metadata": {
    "execution": {
     "iopub.execute_input": "2023-08-02T14:39:48.460516Z",
     "iopub.status.busy": "2023-08-02T14:39:48.460065Z",
     "iopub.status.idle": "2023-08-02T14:39:58.528234Z",
     "shell.execute_reply": "2023-08-02T14:39:58.527432Z",
     "shell.execute_reply.started": "2023-08-02T14:39:48.460493Z"
    },
    "tags": []
   },
   "outputs": [],
   "source": [
    "samples = sample(model, n=400, processes=4)"
   ]
  },
  {
   "cell_type": "code",
   "execution_count": 12,
   "id": "5a009c01-c947-42f3-a5e8-c6f10a0b2ccd",
   "metadata": {
    "execution": {
     "iopub.execute_input": "2023-08-02T14:39:58.532197Z",
     "iopub.status.busy": "2023-08-02T14:39:58.531925Z",
     "iopub.status.idle": "2023-08-02T14:39:58.564151Z",
     "shell.execute_reply": "2023-08-02T14:39:58.563572Z",
     "shell.execute_reply.started": "2023-08-02T14:39:58.532172Z"
    },
    "tags": []
   },
   "outputs": [
    {
     "data": {
      "text/html": [
       "<div>\n",
       "<style scoped>\n",
       "    .dataframe tbody tr th:only-of-type {\n",
       "        vertical-align: middle;\n",
       "    }\n",
       "\n",
       "    .dataframe tbody tr th {\n",
       "        vertical-align: top;\n",
       "    }\n",
       "\n",
       "    .dataframe thead th {\n",
       "        text-align: right;\n",
       "    }\n",
       "</style>\n",
       "<table border=\"1\" class=\"dataframe\">\n",
       "  <thead>\n",
       "    <tr style=\"text-align: right;\">\n",
       "      <th></th>\n",
       "      <th>rxn12008_c0</th>\n",
       "      <th>rxn00541_c0</th>\n",
       "      <th>rxn00225_c0</th>\n",
       "      <th>rxn01199_c0</th>\n",
       "      <th>rxn10215_c0</th>\n",
       "      <th>rxn02483_c0</th>\n",
       "      <th>rxn00802_c0</th>\n",
       "      <th>rxn03638_c0</th>\n",
       "      <th>rxn06078_c0</th>\n",
       "      <th>rxn00868_c0</th>\n",
       "      <th>...</th>\n",
       "      <th>ProTrans_c0</th>\n",
       "      <th>IsoButTrans_c0</th>\n",
       "      <th>3MBTrans_c0</th>\n",
       "      <th>NaDiffusion_c0</th>\n",
       "      <th>PheTrans_c0</th>\n",
       "      <th>AsnTrans_c0</th>\n",
       "      <th>TyrTrans_c0</th>\n",
       "      <th>MetTrans_c0</th>\n",
       "      <th>rxn05469_c0</th>\n",
       "      <th>cpd00020_ext_b</th>\n",
       "    </tr>\n",
       "  </thead>\n",
       "  <tbody>\n",
       "    <tr>\n",
       "      <th>0</th>\n",
       "      <td>1.089041e-17</td>\n",
       "      <td>0.268088</td>\n",
       "      <td>-735.916610</td>\n",
       "      <td>-0.000078</td>\n",
       "      <td>1.243577e-16</td>\n",
       "      <td>0.0</td>\n",
       "      <td>454.343558</td>\n",
       "      <td>0.000103</td>\n",
       "      <td>1.568404e-20</td>\n",
       "      <td>0.0</td>\n",
       "      <td>...</td>\n",
       "      <td>-61.553068</td>\n",
       "      <td>0.0</td>\n",
       "      <td>0.0</td>\n",
       "      <td>-526.588195</td>\n",
       "      <td>-0.000065</td>\n",
       "      <td>-0.000021</td>\n",
       "      <td>-0.000043</td>\n",
       "      <td>-129.650845</td>\n",
       "      <td>-0.000113</td>\n",
       "      <td>0.000113</td>\n",
       "    </tr>\n",
       "    <tr>\n",
       "      <th>1</th>\n",
       "      <td>4.771229e-17</td>\n",
       "      <td>0.417272</td>\n",
       "      <td>-715.242501</td>\n",
       "      <td>-0.002464</td>\n",
       "      <td>1.362107e-16</td>\n",
       "      <td>0.0</td>\n",
       "      <td>454.858929</td>\n",
       "      <td>0.000303</td>\n",
       "      <td>1.569091e-20</td>\n",
       "      <td>0.0</td>\n",
       "      <td>...</td>\n",
       "      <td>-82.326042</td>\n",
       "      <td>0.0</td>\n",
       "      <td>0.0</td>\n",
       "      <td>-505.135855</td>\n",
       "      <td>-0.000072</td>\n",
       "      <td>-0.000021</td>\n",
       "      <td>-0.000043</td>\n",
       "      <td>-149.874380</td>\n",
       "      <td>-0.003343</td>\n",
       "      <td>0.003343</td>\n",
       "    </tr>\n",
       "    <tr>\n",
       "      <th>2</th>\n",
       "      <td>2.560473e-16</td>\n",
       "      <td>0.413465</td>\n",
       "      <td>-720.626867</td>\n",
       "      <td>-0.007729</td>\n",
       "      <td>3.509706e-17</td>\n",
       "      <td>0.0</td>\n",
       "      <td>458.690769</td>\n",
       "      <td>0.000382</td>\n",
       "      <td>1.609110e-20</td>\n",
       "      <td>0.0</td>\n",
       "      <td>...</td>\n",
       "      <td>5.195525</td>\n",
       "      <td>0.0</td>\n",
       "      <td>0.0</td>\n",
       "      <td>-619.676740</td>\n",
       "      <td>-0.000687</td>\n",
       "      <td>-0.000022</td>\n",
       "      <td>-0.001479</td>\n",
       "      <td>-108.880477</td>\n",
       "      <td>-0.003457</td>\n",
       "      <td>0.003457</td>\n",
       "    </tr>\n",
       "    <tr>\n",
       "      <th>3</th>\n",
       "      <td>2.522121e-16</td>\n",
       "      <td>1.114675</td>\n",
       "      <td>-726.149210</td>\n",
       "      <td>-0.005396</td>\n",
       "      <td>6.261513e-17</td>\n",
       "      <td>0.0</td>\n",
       "      <td>454.871275</td>\n",
       "      <td>0.001172</td>\n",
       "      <td>1.547081e-20</td>\n",
       "      <td>0.0</td>\n",
       "      <td>...</td>\n",
       "      <td>-84.597524</td>\n",
       "      <td>0.0</td>\n",
       "      <td>0.0</td>\n",
       "      <td>-526.925758</td>\n",
       "      <td>-0.003407</td>\n",
       "      <td>-0.000269</td>\n",
       "      <td>-0.001456</td>\n",
       "      <td>-158.676984</td>\n",
       "      <td>-0.004654</td>\n",
       "      <td>0.004654</td>\n",
       "    </tr>\n",
       "    <tr>\n",
       "      <th>4</th>\n",
       "      <td>5.822410e-16</td>\n",
       "      <td>0.617041</td>\n",
       "      <td>-699.481599</td>\n",
       "      <td>-0.005455</td>\n",
       "      <td>1.841297e-14</td>\n",
       "      <td>0.0</td>\n",
       "      <td>476.362144</td>\n",
       "      <td>0.001246</td>\n",
       "      <td>1.570631e-20</td>\n",
       "      <td>0.0</td>\n",
       "      <td>...</td>\n",
       "      <td>-90.224897</td>\n",
       "      <td>0.0</td>\n",
       "      <td>0.0</td>\n",
       "      <td>-532.605359</td>\n",
       "      <td>-0.003027</td>\n",
       "      <td>-0.002765</td>\n",
       "      <td>-0.001469</td>\n",
       "      <td>-161.512559</td>\n",
       "      <td>-0.004693</td>\n",
       "      <td>0.004693</td>\n",
       "    </tr>\n",
       "  </tbody>\n",
       "</table>\n",
       "<p>5 rows × 1108 columns</p>\n",
       "</div>"
      ],
      "text/plain": [
       "    rxn12008_c0  rxn00541_c0  rxn00225_c0  rxn01199_c0   rxn10215_c0  \\\n",
       "0  1.089041e-17     0.268088  -735.916610    -0.000078  1.243577e-16   \n",
       "1  4.771229e-17     0.417272  -715.242501    -0.002464  1.362107e-16   \n",
       "2  2.560473e-16     0.413465  -720.626867    -0.007729  3.509706e-17   \n",
       "3  2.522121e-16     1.114675  -726.149210    -0.005396  6.261513e-17   \n",
       "4  5.822410e-16     0.617041  -699.481599    -0.005455  1.841297e-14   \n",
       "\n",
       "   rxn02483_c0  rxn00802_c0  rxn03638_c0   rxn06078_c0  rxn00868_c0  ...  \\\n",
       "0          0.0   454.343558     0.000103  1.568404e-20          0.0  ...   \n",
       "1          0.0   454.858929     0.000303  1.569091e-20          0.0  ...   \n",
       "2          0.0   458.690769     0.000382  1.609110e-20          0.0  ...   \n",
       "3          0.0   454.871275     0.001172  1.547081e-20          0.0  ...   \n",
       "4          0.0   476.362144     0.001246  1.570631e-20          0.0  ...   \n",
       "\n",
       "   ProTrans_c0  IsoButTrans_c0  3MBTrans_c0  NaDiffusion_c0  PheTrans_c0  \\\n",
       "0   -61.553068             0.0          0.0     -526.588195    -0.000065   \n",
       "1   -82.326042             0.0          0.0     -505.135855    -0.000072   \n",
       "2     5.195525             0.0          0.0     -619.676740    -0.000687   \n",
       "3   -84.597524             0.0          0.0     -526.925758    -0.003407   \n",
       "4   -90.224897             0.0          0.0     -532.605359    -0.003027   \n",
       "\n",
       "   AsnTrans_c0  TyrTrans_c0  MetTrans_c0  rxn05469_c0  cpd00020_ext_b  \n",
       "0    -0.000021    -0.000043  -129.650845    -0.000113        0.000113  \n",
       "1    -0.000021    -0.000043  -149.874380    -0.003343        0.003343  \n",
       "2    -0.000022    -0.001479  -108.880477    -0.003457        0.003457  \n",
       "3    -0.000269    -0.001456  -158.676984    -0.004654        0.004654  \n",
       "4    -0.002765    -0.001469  -161.512559    -0.004693        0.004693  \n",
       "\n",
       "[5 rows x 1108 columns]"
      ]
     },
     "execution_count": 12,
     "metadata": {},
     "output_type": "execute_result"
    }
   ],
   "source": [
    "samples.head()"
   ]
  },
  {
   "cell_type": "code",
   "execution_count": 13,
   "id": "e8214b48-2b8d-414e-8c02-19a9c61aeb0c",
   "metadata": {
    "execution": {
     "iopub.execute_input": "2023-08-02T14:39:58.565043Z",
     "iopub.status.busy": "2023-08-02T14:39:58.564844Z",
     "iopub.status.idle": "2023-08-02T14:39:58.629255Z",
     "shell.execute_reply": "2023-08-02T14:39:58.628729Z",
     "shell.execute_reply.started": "2023-08-02T14:39:58.565024Z"
    }
   },
   "outputs": [],
   "source": [
    "samples = samples.melt(var_name=\"reaction\", value_name=\"flux\")\n",
    "\n",
    "samples[\"map_id\"] = samples.reaction.apply(lambda x: model_to_map[x])"
   ]
  },
  {
   "cell_type": "code",
   "execution_count": 14,
   "id": "c7aab5ec-6fda-4411-8915-4e216d7e1736",
   "metadata": {
    "execution": {
     "iopub.execute_input": "2023-08-02T14:39:58.630234Z",
     "iopub.status.busy": "2023-08-02T14:39:58.630029Z",
     "iopub.status.idle": "2023-08-02T14:39:58.639200Z",
     "shell.execute_reply": "2023-08-02T14:39:58.638398Z",
     "shell.execute_reply.started": "2023-08-02T14:39:58.630214Z"
    },
    "tags": []
   },
   "outputs": [
    {
     "data": {
      "text/html": [
       "<div>\n",
       "<style scoped>\n",
       "    .dataframe tbody tr th:only-of-type {\n",
       "        vertical-align: middle;\n",
       "    }\n",
       "\n",
       "    .dataframe tbody tr th {\n",
       "        vertical-align: top;\n",
       "    }\n",
       "\n",
       "    .dataframe thead th {\n",
       "        text-align: right;\n",
       "    }\n",
       "</style>\n",
       "<table border=\"1\" class=\"dataframe\">\n",
       "  <thead>\n",
       "    <tr style=\"text-align: right;\">\n",
       "      <th></th>\n",
       "      <th>reaction</th>\n",
       "      <th>flux</th>\n",
       "      <th>map_id</th>\n",
       "    </tr>\n",
       "  </thead>\n",
       "  <tbody>\n",
       "    <tr>\n",
       "      <th>0</th>\n",
       "      <td>rxn12008_c0</td>\n",
       "      <td>1.089041e-17</td>\n",
       "      <td>rxn12008_c0</td>\n",
       "    </tr>\n",
       "    <tr>\n",
       "      <th>1</th>\n",
       "      <td>rxn12008_c0</td>\n",
       "      <td>4.771229e-17</td>\n",
       "      <td>rxn12008_c0</td>\n",
       "    </tr>\n",
       "    <tr>\n",
       "      <th>2</th>\n",
       "      <td>rxn12008_c0</td>\n",
       "      <td>2.560473e-16</td>\n",
       "      <td>rxn12008_c0</td>\n",
       "    </tr>\n",
       "    <tr>\n",
       "      <th>3</th>\n",
       "      <td>rxn12008_c0</td>\n",
       "      <td>2.522121e-16</td>\n",
       "      <td>rxn12008_c0</td>\n",
       "    </tr>\n",
       "    <tr>\n",
       "      <th>4</th>\n",
       "      <td>rxn12008_c0</td>\n",
       "      <td>5.822410e-16</td>\n",
       "      <td>rxn12008_c0</td>\n",
       "    </tr>\n",
       "  </tbody>\n",
       "</table>\n",
       "</div>"
      ],
      "text/plain": [
       "      reaction          flux       map_id\n",
       "0  rxn12008_c0  1.089041e-17  rxn12008_c0\n",
       "1  rxn12008_c0  4.771229e-17  rxn12008_c0\n",
       "2  rxn12008_c0  2.560473e-16  rxn12008_c0\n",
       "3  rxn12008_c0  2.522121e-16  rxn12008_c0\n",
       "4  rxn12008_c0  5.822410e-16  rxn12008_c0"
      ]
     },
     "execution_count": 14,
     "metadata": {},
     "output_type": "execute_result"
    }
   ],
   "source": [
    "samples.head()"
   ]
  },
  {
   "cell_type": "markdown",
   "id": "d1f84d3f-a8b3-4f73-9ccd-493a4edf3b04",
   "metadata": {},
   "source": [
    "Filter by the reactions in the map (this is not actually needed, it just makes it easier to work with)."
   ]
  },
  {
   "cell_type": "code",
   "execution_count": 15,
   "id": "f61ec8be-810c-46a9-b67b-e3598dfad472",
   "metadata": {
    "execution": {
     "iopub.execute_input": "2023-08-02T14:39:58.640405Z",
     "iopub.status.busy": "2023-08-02T14:39:58.640142Z",
     "iopub.status.idle": "2023-08-02T14:39:58.666554Z",
     "shell.execute_reply": "2023-08-02T14:39:58.665576Z",
     "shell.execute_reply.started": "2023-08-02T14:39:58.640382Z"
    },
    "tags": []
   },
   "outputs": [],
   "source": [
    "samples_map = samples[samples.map_id.isin(reacs_in_map)]"
   ]
  },
  {
   "cell_type": "code",
   "execution_count": 16,
   "id": "e17f058c-848c-4639-8b39-52e4be3d3211",
   "metadata": {
    "execution": {
     "iopub.execute_input": "2023-08-02T14:39:58.668337Z",
     "iopub.status.busy": "2023-08-02T14:39:58.667884Z",
     "iopub.status.idle": "2023-08-02T14:39:58.672870Z",
     "shell.execute_reply": "2023-08-02T14:39:58.672263Z",
     "shell.execute_reply.started": "2023-08-02T14:39:58.668305Z"
    },
    "tags": []
   },
   "outputs": [
    {
     "name": "stderr",
     "output_type": "stream",
     "text": [
      "/tmp/ipykernel_169084/1439376718.py:1: SettingWithCopyWarning: \n",
      "A value is trying to be set on a copy of a slice from a DataFrame.\n",
      "Try using .loc[row_indexer,col_indexer] = value instead\n",
      "\n",
      "See the caveats in the documentation: https://pandas.pydata.org/pandas-docs/stable/user_guide/indexing.html#returning-a-view-versus-a-copy\n",
      "  samples_map[\"condition\"] = \"CO\"\n"
     ]
    }
   ],
   "source": [
    "samples_map[\"condition\"] = \"CO\""
   ]
  },
  {
   "cell_type": "markdown",
   "id": "809032e6-4c39-4fc8-a76d-1e33fe007b5d",
   "metadata": {},
   "source": [
    "### Syngas"
   ]
  },
  {
   "cell_type": "code",
   "execution_count": 17,
   "id": "cebce9f5-4ab7-4672-8da5-dc348a145374",
   "metadata": {
    "execution": {
     "iopub.execute_input": "2023-08-02T14:39:58.673897Z",
     "iopub.status.busy": "2023-08-02T14:39:58.673639Z",
     "iopub.status.idle": "2023-08-02T14:39:58.681464Z",
     "shell.execute_reply": "2023-08-02T14:39:58.680704Z",
     "shell.execute_reply.started": "2023-08-02T14:39:58.673873Z"
    }
   },
   "outputs": [],
   "source": [
    "model.reactions.get_by_id(\"cpd11640_ext_b\").bounds = (\n",
    "    -12.87,\n",
    "    -12.87,\n",
    ")  #   H2\n",
    "model.reactions.get_by_id(\"cpd00204_ext_b\").bounds = -31.56, -31.56  # CO\n",
    "model.reactions.get_by_id(\"cpd00084_ext_b\").bounds = -0.08, 1000  # Cysteine\n",
    "model.reactions.get_by_id(\"cpd00011_ext_b\").bounds = 12.91, 12.91  # CO2\n",
    "model.reactions.get_by_id(\"cpd00029_ext_b\").bounds = 4.25, 1000  # Acetate\n",
    "model.reactions.get_by_id(\"cpd00363_ext_b\").bounds = 3.74, 1000  # Ethanol\n",
    "model.reactions.get_by_id(\"cpd01947_ext_b\").bounds = 0.09, 1000  # BDOH"
   ]
  },
  {
   "cell_type": "code",
   "execution_count": 18,
   "id": "04248fb3-4598-4357-abfa-023c23396a43",
   "metadata": {
    "execution": {
     "iopub.execute_input": "2023-08-02T14:39:58.683231Z",
     "iopub.status.busy": "2023-08-02T14:39:58.682618Z",
     "iopub.status.idle": "2023-08-02T14:40:11.589291Z",
     "shell.execute_reply": "2023-08-02T14:40:11.588323Z",
     "shell.execute_reply.started": "2023-08-02T14:39:58.683191Z"
    },
    "tags": []
   },
   "outputs": [],
   "source": [
    "samples = sample(model, n=400, processes=4)\n",
    "samples = samples.melt(var_name=\"reaction\", value_name=\"flux\")\n",
    "samples[\"map_id\"] = samples.reaction.apply(lambda x: model_to_map[x])\n",
    "samples[\"condition\"] = \"Syngas\"\n",
    "samples_map = pd.concat([samples_map, samples[samples.map_id.isin(reacs_in_map)]])"
   ]
  },
  {
   "cell_type": "markdown",
   "id": "6efe1b24-8044-4c46-8ec5-e1ce3ede61a6",
   "metadata": {},
   "source": [
    "### High-H2 CO"
   ]
  },
  {
   "cell_type": "code",
   "execution_count": 19,
   "id": "bf4b5455-cf57-4b84-80af-ba37043c24f0",
   "metadata": {
    "execution": {
     "iopub.execute_input": "2023-08-02T14:40:11.590981Z",
     "iopub.status.busy": "2023-08-02T14:40:11.590593Z",
     "iopub.status.idle": "2023-08-02T14:40:11.598929Z",
     "shell.execute_reply": "2023-08-02T14:40:11.597814Z",
     "shell.execute_reply.started": "2023-08-02T14:40:11.590941Z"
    }
   },
   "outputs": [],
   "source": [
    "model.reactions.get_by_id(\"cpd11640_ext_b\").bounds = (\n",
    "    -32.52,\n",
    "    -32.52,\n",
    ")  #   H2\n",
    "model.reactions.get_by_id(\"cpd00204_ext_b\").bounds = -25.33, -25.33  # CO\n",
    "model.reactions.get_by_id(\"cpd00084_ext_b\").bounds = -0.09, 1000  # Cysteine\n",
    "model.reactions.get_by_id(\"cpd00011_ext_b\").bounds = 4.39, 4.39  # CO2\n",
    "model.reactions.get_by_id(\"cpd00029_ext_b\").bounds = 1.92, 1000  # Acetate\n",
    "model.reactions.get_by_id(\"cpd00363_ext_b\").bounds = 7.78, 1000  # Ethanol\n",
    "model.reactions.get_by_id(\"cpd01947_ext_b\").bounds = 0, 1000  # BDOH"
   ]
  },
  {
   "cell_type": "code",
   "execution_count": 20,
   "id": "b6bb8316-e57a-4bea-8c7e-75701bc7f298",
   "metadata": {
    "execution": {
     "iopub.execute_input": "2023-08-02T14:40:11.601138Z",
     "iopub.status.busy": "2023-08-02T14:40:11.600351Z",
     "iopub.status.idle": "2023-08-02T14:40:23.833367Z",
     "shell.execute_reply": "2023-08-02T14:40:23.832382Z",
     "shell.execute_reply.started": "2023-08-02T14:40:11.601096Z"
    },
    "tags": []
   },
   "outputs": [],
   "source": [
    "samples = sample(model, n=400, processes=4)\n",
    "samples = samples.melt(var_name=\"reaction\", value_name=\"flux\")\n",
    "samples[\"map_id\"] = samples.reaction.apply(lambda x: model_to_map[x])\n",
    "samples[\"condition\"] = \"HighH2CO\"\n",
    "samples_map = pd.concat([samples_map, samples[samples.map_id.isin(reacs_in_map)]])"
   ]
  },
  {
   "cell_type": "code",
   "execution_count": 21,
   "id": "c7cfb66b-c6d9-4c54-b9f0-1ffc88effd76",
   "metadata": {
    "execution": {
     "iopub.execute_input": "2023-08-02T14:40:23.835187Z",
     "iopub.status.busy": "2023-08-02T14:40:23.834783Z",
     "iopub.status.idle": "2023-08-02T14:40:23.846782Z",
     "shell.execute_reply": "2023-08-02T14:40:23.845832Z",
     "shell.execute_reply.started": "2023-08-02T14:40:23.835147Z"
    }
   },
   "outputs": [
    {
     "data": {
      "text/html": [
       "<div>\n",
       "<style scoped>\n",
       "    .dataframe tbody tr th:only-of-type {\n",
       "        vertical-align: middle;\n",
       "    }\n",
       "\n",
       "    .dataframe tbody tr th {\n",
       "        vertical-align: top;\n",
       "    }\n",
       "\n",
       "    .dataframe thead th {\n",
       "        text-align: right;\n",
       "    }\n",
       "</style>\n",
       "<table border=\"1\" class=\"dataframe\">\n",
       "  <thead>\n",
       "    <tr style=\"text-align: right;\">\n",
       "      <th></th>\n",
       "      <th>reaction</th>\n",
       "      <th>flux</th>\n",
       "      <th>map_id</th>\n",
       "      <th>condition</th>\n",
       "    </tr>\n",
       "  </thead>\n",
       "  <tbody>\n",
       "    <tr>\n",
       "      <th>800</th>\n",
       "      <td>rxn00225_c0</td>\n",
       "      <td>-735.916610</td>\n",
       "      <td>ACKr</td>\n",
       "      <td>CO</td>\n",
       "    </tr>\n",
       "    <tr>\n",
       "      <th>801</th>\n",
       "      <td>rxn00225_c0</td>\n",
       "      <td>-715.242501</td>\n",
       "      <td>ACKr</td>\n",
       "      <td>CO</td>\n",
       "    </tr>\n",
       "    <tr>\n",
       "      <th>802</th>\n",
       "      <td>rxn00225_c0</td>\n",
       "      <td>-720.626867</td>\n",
       "      <td>ACKr</td>\n",
       "      <td>CO</td>\n",
       "    </tr>\n",
       "    <tr>\n",
       "      <th>803</th>\n",
       "      <td>rxn00225_c0</td>\n",
       "      <td>-726.149210</td>\n",
       "      <td>ACKr</td>\n",
       "      <td>CO</td>\n",
       "    </tr>\n",
       "    <tr>\n",
       "      <th>804</th>\n",
       "      <td>rxn00225_c0</td>\n",
       "      <td>-699.481599</td>\n",
       "      <td>ACKr</td>\n",
       "      <td>CO</td>\n",
       "    </tr>\n",
       "  </tbody>\n",
       "</table>\n",
       "</div>"
      ],
      "text/plain": [
       "        reaction        flux map_id condition\n",
       "800  rxn00225_c0 -735.916610   ACKr        CO\n",
       "801  rxn00225_c0 -715.242501   ACKr        CO\n",
       "802  rxn00225_c0 -720.626867   ACKr        CO\n",
       "803  rxn00225_c0 -726.149210   ACKr        CO\n",
       "804  rxn00225_c0 -699.481599   ACKr        CO"
      ]
     },
     "execution_count": 21,
     "metadata": {},
     "output_type": "execute_result"
    }
   ],
   "source": [
    "samples_map.head()"
   ]
  },
  {
   "cell_type": "code",
   "execution_count": 22,
   "id": "5ce39576-9449-4c73-a422-e1fde7198eb0",
   "metadata": {
    "execution": {
     "iopub.execute_input": "2023-08-02T14:40:23.849021Z",
     "iopub.status.busy": "2023-08-02T14:40:23.848150Z",
     "iopub.status.idle": "2023-08-02T14:40:23.854382Z",
     "shell.execute_reply": "2023-08-02T14:40:23.853587Z",
     "shell.execute_reply.started": "2023-08-02T14:40:23.848969Z"
    },
    "tags": []
   },
   "outputs": [
    {
     "data": {
      "text/plain": [
       "(72000, 4)"
      ]
     },
     "execution_count": 22,
     "metadata": {},
     "output_type": "execute_result"
    }
   ],
   "source": [
    "samples_map.shape"
   ]
  },
  {
   "cell_type": "markdown",
   "id": "f8a88aa3-1e76-4585-a26a-8356c5bbf0e7",
   "metadata": {},
   "source": [
    "## 2. Metabolomics\n",
    "\n",
    "This data comes from [Valgepea et al., 2018](https://biotechnologyforbiofuels.biomedcentral.com/articles/10.1186/s13068-018-1052-9) and [de Souza et al., 2018](https://link.springer.com/article/10.1007/s11306-018-1331-2).\n",
    "\n",
    "The key transformation of the data is to translated the identifiers from the dataset\n",
    "to the ones in the map."
   ]
  },
  {
   "cell_type": "code",
   "execution_count": 23,
   "id": "bf470c46-832c-4df4-a70f-cdbfb3a283f2",
   "metadata": {
    "execution": {
     "iopub.execute_input": "2023-08-02T14:40:23.856215Z",
     "iopub.status.busy": "2023-08-02T14:40:23.855781Z",
     "iopub.status.idle": "2023-08-02T14:40:23.864473Z",
     "shell.execute_reply": "2023-08-02T14:40:23.863868Z",
     "shell.execute_reply.started": "2023-08-02T14:40:23.856176Z"
    },
    "tags": []
   },
   "outputs": [],
   "source": [
    "df_met = pd.read_csv(\"../data/METABOLOMICS_Valgepea2018_format.tsv\", sep=\"\\t\")"
   ]
  },
  {
   "cell_type": "code",
   "execution_count": 24,
   "id": "eb43623a-2ba2-4477-ba85-abb627441042",
   "metadata": {
    "execution": {
     "iopub.execute_input": "2023-08-02T14:40:23.865933Z",
     "iopub.status.busy": "2023-08-02T14:40:23.865558Z",
     "iopub.status.idle": "2023-08-02T14:40:23.870641Z",
     "shell.execute_reply": "2023-08-02T14:40:23.870024Z",
     "shell.execute_reply.started": "2023-08-02T14:40:23.865895Z"
    },
    "tags": []
   },
   "outputs": [],
   "source": [
    "mets_in_map = {\n",
    "    met[\"bigg_id\"]\n",
    "    for met in metabolic_map[\"nodes\"].values()\n",
    "    if met[\"node_type\"] == \"metabolite\"\n",
    "}"
   ]
  },
  {
   "cell_type": "code",
   "execution_count": 25,
   "id": "67a5ed7c-9107-44ac-97ca-44852518eecc",
   "metadata": {
    "execution": {
     "iopub.execute_input": "2023-08-02T14:40:23.872375Z",
     "iopub.status.busy": "2023-08-02T14:40:23.871767Z",
     "iopub.status.idle": "2023-08-02T14:40:23.879652Z",
     "shell.execute_reply": "2023-08-02T14:40:23.878799Z",
     "shell.execute_reply.started": "2023-08-02T14:40:23.872334Z"
    },
    "tags": []
   },
   "outputs": [
    {
     "data": {
      "text/plain": [
       "['3pg+2pg_c',\n",
       " '6pg_c',\n",
       " 'acn_c',\n",
       " 'cit+iso_c',\n",
       " 'cmp_c',\n",
       " 'ctp_c',\n",
       " 'f16dp_c',\n",
       " 'fad_c',\n",
       " 'fmn_c',\n",
       " 'fum_c',\n",
       " 'ga3p_c',\n",
       " 'gdp_c',\n",
       " 'gmp_c',\n",
       " 'gtp_c',\n",
       " 'kga_c',\n",
       " 'lac_c',\n",
       " 'mal_c',\n",
       " 'rl5p_c',\n",
       " 'suc_c',\n",
       " 'udp_c',\n",
       " 'ump_c',\n",
       " 'utp_c']"
      ]
     },
     "execution_count": 25,
     "metadata": {},
     "output_type": "execute_result"
    }
   ],
   "source": [
    "[f\"{met}_c\" for met in pd.unique(df_met.metabolite) if f\"{met}_c\" not in mets_in_map]"
   ]
  },
  {
   "cell_type": "markdown",
   "id": "7ccfe9a9-2ffb-4780-81be-bebbb3c0fe15",
   "metadata": {
    "execution": {
     "iopub.execute_input": "2023-02-10T09:08:49.717282Z",
     "iopub.status.busy": "2023-02-10T09:08:49.716620Z",
     "iopub.status.idle": "2023-02-10T09:08:49.736986Z",
     "shell.execute_reply": "2023-02-10T09:08:49.736281Z",
     "shell.execute_reply.started": "2023-02-10T09:08:49.717204Z"
    },
    "tags": []
   },
   "source": [
    "Of this, `3pg+2pg` is in the map but as separate metabolites and some others appear but with different identifiers."
   ]
  },
  {
   "cell_type": "code",
   "execution_count": 26,
   "id": "ea237e74-d510-4e95-a290-2bb2b05ed721",
   "metadata": {
    "execution": {
     "iopub.execute_input": "2023-08-02T14:40:23.881646Z",
     "iopub.status.busy": "2023-08-02T14:40:23.880863Z",
     "iopub.status.idle": "2023-08-02T14:40:23.887102Z",
     "shell.execute_reply": "2023-08-02T14:40:23.886066Z",
     "shell.execute_reply.started": "2023-08-02T14:40:23.881597Z"
    },
    "tags": []
   },
   "outputs": [],
   "source": [
    "df_met[\"map_id\"] = df_met.metabolite.apply(lambda met: f\"{met}_c\")"
   ]
  },
  {
   "cell_type": "code",
   "execution_count": 27,
   "id": "6cb91938-1200-4a17-a4c6-705b2bc0dab6",
   "metadata": {
    "execution": {
     "iopub.execute_input": "2023-08-02T14:40:23.889414Z",
     "iopub.status.busy": "2023-08-02T14:40:23.888479Z",
     "iopub.status.idle": "2023-08-02T14:40:23.897279Z",
     "shell.execute_reply": "2023-08-02T14:40:23.896376Z",
     "shell.execute_reply.started": "2023-08-02T14:40:23.889367Z"
    },
    "tags": []
   },
   "outputs": [],
   "source": [
    "df_met.map_id = df_met.map_id.replace(\n",
    "    {\n",
    "        \"3pg+2pg_c\": \"3pg_c\",\n",
    "        \"ga3p_c\": \"S_cpd00102_c\",\n",
    "        \"lac_c\": \"lac__D_c\",\n",
    "        \"rl5p_c\": \"ru5p_c\",\n",
    "        \"6pg_c\": \"6pgc_c\",\n",
    "        \"f16dp_c\": \"fdp_c\",\n",
    "    }\n",
    ")"
   ]
  },
  {
   "cell_type": "markdown",
   "id": "0b61889a-be4b-494f-8f1d-30afbadd596b",
   "metadata": {},
   "source": [
    "Add also the pool concentration for 2pg. This will be indicated in the figure."
   ]
  },
  {
   "cell_type": "code",
   "execution_count": 28,
   "id": "66599b90-c1b9-40d3-85a7-46000e69d335",
   "metadata": {
    "execution": {
     "iopub.execute_input": "2023-08-02T14:40:23.899451Z",
     "iopub.status.busy": "2023-08-02T14:40:23.898558Z",
     "iopub.status.idle": "2023-08-02T14:40:23.908962Z",
     "shell.execute_reply": "2023-08-02T14:40:23.907576Z",
     "shell.execute_reply.started": "2023-08-02T14:40:23.899408Z"
    },
    "tags": []
   },
   "outputs": [],
   "source": [
    "df_met = pd.concat([df_met, df_met[df_met.map_id == \"3pg_c\"].assign(map_id=\"2pg_c\")])"
   ]
  },
  {
   "cell_type": "markdown",
   "id": "f0dcce48-bb79-4b47-b78c-72a33bad270a",
   "metadata": {},
   "source": [
    "## 3. Proteomics"
   ]
  },
  {
   "cell_type": "markdown",
   "id": "22458a33-8465-460c-ad0e-92ae50c924cc",
   "metadata": {},
   "source": [
    "To map the model to the proteins, I will use the enzyme constraint model since it provides a structural way to associate proteins with reactions."
   ]
  },
  {
   "cell_type": "code",
   "execution_count": 29,
   "id": "3eacab90-d779-4c52-8f4d-a8537f27327c",
   "metadata": {
    "execution": {
     "iopub.execute_input": "2023-08-02T14:40:23.911518Z",
     "iopub.status.busy": "2023-08-02T14:40:23.910465Z",
     "iopub.status.idle": "2023-08-02T14:40:23.916129Z",
     "shell.execute_reply": "2023-08-02T14:40:23.914897Z",
     "shell.execute_reply.started": "2023-08-02T14:40:23.911472Z"
    },
    "tags": []
   },
   "outputs": [],
   "source": [
    "import geckopy"
   ]
  },
  {
   "cell_type": "code",
   "execution_count": 31,
   "id": "ccf622b1-31fb-4f27-8d84-6e3ab072ffc3",
   "metadata": {
    "collapsed": true,
    "execution": {
     "iopub.execute_input": "2023-08-02T14:40:34.166377Z",
     "iopub.status.busy": "2023-08-02T14:40:34.165679Z",
     "iopub.status.idle": "2023-08-02T14:44:19.310067Z",
     "shell.execute_reply": "2023-08-02T14:44:19.309379Z",
     "shell.execute_reply.started": "2023-08-02T14:40:34.166318Z"
    },
    "jupyter": {
     "outputs_hidden": true
    },
    "tags": []
   },
   "outputs": [
    {
     "name": "stderr",
     "output_type": "stream",
     "text": [
      "/home/georg/.virtualenvs/gecko/lib/python3.9/site-packages/cobra/core/group.py:148: UserWarning: need to pass in a list\n",
      "  warn(\"need to pass in a list\")\n",
      "Metabolite prot_U5RTZ1 does not use Uniprot ID.\n",
      "Metabolite prot_U5RYC1 does not use Uniprot ID.\n",
      "Metabolite prot_U5RRE0 does not use Uniprot ID.\n",
      "Metabolite prot_U5RS90 does not use Uniprot ID.\n",
      "Metabolite prot_U5RXZ7 does not use Uniprot ID.\n",
      "Metabolite prot_U5S114 does not use Uniprot ID.\n",
      "Metabolite prot_A0A3M0SRQ1 does not use Uniprot ID.\n",
      "Metabolite prot_U5RYX9 does not use Uniprot ID.\n",
      "Metabolite prot_U5S2A9 does not use Uniprot ID.\n",
      "Metabolite prot_U5S1H6 does not use Uniprot ID.\n",
      "Metabolite prot_U5RTD1 does not use Uniprot ID.\n",
      "Metabolite prot_CAETHG_RS09960 does not use Uniprot ID.\n",
      "Metabolite prot_CAETHG_RS09965 does not use Uniprot ID.\n",
      "Metabolite prot_CAETHG_RS13725 does not use Uniprot ID.\n",
      "Metabolite prot_CAETHG_RS13765 does not use Uniprot ID.\n",
      "Metabolite prot_CAETHG_RS13770 does not use Uniprot ID.\n",
      "Metabolite prot_CAETHG_RS13745 does not use Uniprot ID.\n",
      "Metabolite prot_CAETHG_RS13750 does not use Uniprot ID.\n",
      "Metabolite prot_CAETHG_RS13760 does not use Uniprot ID.\n",
      "Metabolite prot_CAETHG_RS13755 does not use Uniprot ID.\n",
      "Metabolite prot_U5RTN5 does not use Uniprot ID.\n",
      "Metabolite prot_U5RX36 does not use Uniprot ID.\n",
      "Metabolite prot_D8GNL2 does not use Uniprot ID.\n",
      "Metabolite prot_U5RZ72 does not use Uniprot ID.\n",
      "Metabolite prot_U5RZG4 does not use Uniprot ID.\n",
      "Metabolite prot_U5RW30 does not use Uniprot ID.\n",
      "Metabolite prot_U5RSA0 does not use Uniprot ID.\n",
      "Metabolite prot_U5RPW4 does not use Uniprot ID.\n",
      "Metabolite prot_U5RVS3 does not use Uniprot ID.\n",
      "Metabolite prot_A0A3M0SX22 does not use Uniprot ID.\n",
      "Metabolite prot_U5RQP4 does not use Uniprot ID.\n",
      "Metabolite prot_U5RQB7 does not use Uniprot ID.\n",
      "Metabolite prot_U5RYB1 does not use Uniprot ID.\n",
      "Metabolite prot_U5RZM1 does not use Uniprot ID.\n",
      "Metabolite prot_CAETHG_RS11755 does not use Uniprot ID.\n",
      "Metabolite prot_U5RQW8 does not use Uniprot ID.\n",
      "Metabolite prot_CAETHG_RS13405 does not use Uniprot ID.\n",
      "Metabolite prot_U5RXN3 does not use Uniprot ID.\n",
      "Metabolite prot_U5RPM4 does not use Uniprot ID.\n",
      "Metabolite prot_U5RSH6 does not use Uniprot ID.\n",
      "Metabolite prot_U5RZY8 does not use Uniprot ID.\n",
      "Metabolite prot_U5RVF9 does not use Uniprot ID.\n",
      "Metabolite prot_U5S1E4 does not use Uniprot ID.\n",
      "Metabolite prot_U5RTD3 does not use Uniprot ID.\n",
      "Metabolite prot_U5RS05 does not use Uniprot ID.\n",
      "Metabolite prot_U5RSC2 does not use Uniprot ID.\n",
      "Metabolite prot_U5RSP6 does not use Uniprot ID.\n",
      "Metabolite prot_U5RR49 does not use Uniprot ID.\n",
      "Metabolite prot_U5RR52 does not use Uniprot ID.\n",
      "Metabolite prot_U5RXH7 does not use Uniprot ID.\n",
      "Metabolite prot_U5RVV3 does not use Uniprot ID.\n",
      "Metabolite prot_U5RXM4 does not use Uniprot ID.\n",
      "Metabolite prot_U5RXV4 does not use Uniprot ID.\n",
      "Metabolite prot_U5RPF0 does not use Uniprot ID.\n",
      "Metabolite prot_U5RVY0 does not use Uniprot ID.\n",
      "Metabolite prot_CAETHG_RS13960 does not use Uniprot ID.\n",
      "Metabolite prot_U5RVW5 does not use Uniprot ID.\n",
      "Metabolite prot_CAETHG_RS08635 does not use Uniprot ID.\n",
      "Metabolite prot_U5RS12 does not use Uniprot ID.\n",
      "Metabolite prot_A0A3M0S0U5 does not use Uniprot ID.\n",
      "Metabolite prot_U5RT18 does not use Uniprot ID.\n",
      "Metabolite prot_U5RXD0 does not use Uniprot ID.\n",
      "Metabolite prot_U5S2B5 does not use Uniprot ID.\n",
      "Metabolite prot_U5RX15 does not use Uniprot ID.\n",
      "Metabolite prot_U5RS79 does not use Uniprot ID.\n",
      "Metabolite prot_U5RWC6 does not use Uniprot ID.\n",
      "Metabolite prot_A0A3M0S8L4 does not use Uniprot ID.\n",
      "Metabolite prot_U5RX97 does not use Uniprot ID.\n",
      "Metabolite prot_U5RTN4 does not use Uniprot ID.\n",
      "Metabolite prot_U5RRP1 does not use Uniprot ID.\n",
      "Metabolite prot_U5RPM5 does not use Uniprot ID.\n",
      "Metabolite prot_U5RPT6 does not use Uniprot ID.\n",
      "Metabolite prot_U5S171 does not use Uniprot ID.\n",
      "Metabolite prot_U5RXI9 does not use Uniprot ID.\n",
      "Metabolite prot_U5RZA4 does not use Uniprot ID.\n",
      "Metabolite prot_U5RZB6 does not use Uniprot ID.\n",
      "Metabolite prot_U5RZI6 does not use Uniprot ID.\n",
      "Metabolite prot_U5RWT7 does not use Uniprot ID.\n",
      "Metabolite prot_U5RWZ0 does not use Uniprot ID.\n",
      "Metabolite prot_U5S179 does not use Uniprot ID.\n",
      "Metabolite prot_U5RZG0 does not use Uniprot ID.\n",
      "Metabolite prot_D8GP46 does not use Uniprot ID.\n",
      "Metabolite prot_A0A168PCB0 does not use Uniprot ID.\n",
      "Metabolite prot_U5RSI7 does not use Uniprot ID.\n",
      "Metabolite prot_U5RP25 does not use Uniprot ID.\n",
      "Metabolite prot_U5RTZ7 does not use Uniprot ID.\n",
      "Metabolite prot_U5RZV4 does not use Uniprot ID.\n",
      "Metabolite prot_U5RPE3 does not use Uniprot ID.\n",
      "Metabolite prot_U5S257 does not use Uniprot ID.\n",
      "Metabolite prot_U5RTW3 does not use Uniprot ID.\n",
      "Metabolite prot_U5RUU9 does not use Uniprot ID.\n",
      "Metabolite prot_U5S3I7 does not use Uniprot ID.\n",
      "Metabolite prot_U5RY89 does not use Uniprot ID.\n",
      "Metabolite prot_CAETHG_RS13685 does not use Uniprot ID.\n",
      "Metabolite prot_U5S1Y2 does not use Uniprot ID.\n",
      "Metabolite prot_U5RUQ2 does not use Uniprot ID.\n",
      "Metabolite prot_U5RTS2 does not use Uniprot ID.\n",
      "Metabolite prot_U5RTP4 does not use Uniprot ID.\n",
      "Metabolite prot_U5RUU6 does not use Uniprot ID.\n",
      "Metabolite prot_U5S1C1 does not use Uniprot ID.\n",
      "Metabolite prot_U5RXY7 does not use Uniprot ID.\n",
      "Metabolite prot_U5RRM4 does not use Uniprot ID.\n",
      "Metabolite prot_U5RPM0 does not use Uniprot ID.\n",
      "Metabolite prot_U5RVH1 does not use Uniprot ID.\n",
      "Metabolite prot_U5RUA7 does not use Uniprot ID.\n",
      "Metabolite prot_U5RXC3 does not use Uniprot ID.\n",
      "Metabolite prot_U5RWQ1 does not use Uniprot ID.\n",
      "Metabolite prot_U5RPB2 does not use Uniprot ID.\n",
      "Metabolite prot_U5RPG4 does not use Uniprot ID.\n",
      "Metabolite prot_U5RS29 does not use Uniprot ID.\n",
      "Metabolite prot_U5RY19 does not use Uniprot ID.\n",
      "Metabolite prot_U5RWS2 does not use Uniprot ID.\n",
      "Metabolite prot_U5RQ57 does not use Uniprot ID.\n",
      "Metabolite prot_U5RWB3 does not use Uniprot ID.\n",
      "Metabolite prot_U5RU29 does not use Uniprot ID.\n",
      "Metabolite prot_U5RZJ5 does not use Uniprot ID.\n",
      "Metabolite prot_U5S0Z2 does not use Uniprot ID.\n",
      "Metabolite prot_U5RNN2 does not use Uniprot ID.\n",
      "Metabolite prot_U5RW74 does not use Uniprot ID.\n",
      "Metabolite prot_U5RP32 does not use Uniprot ID.\n",
      "Metabolite prot_U5RQT6 does not use Uniprot ID.\n",
      "Metabolite prot_U5S1I8 does not use Uniprot ID.\n",
      "Metabolite prot_U5RP77 does not use Uniprot ID.\n",
      "Metabolite prot_U5RU99 does not use Uniprot ID.\n",
      "Metabolite prot_U5RNW6 does not use Uniprot ID.\n",
      "Metabolite prot_U5RS61 does not use Uniprot ID.\n",
      "Metabolite prot_U5RU17 does not use Uniprot ID.\n",
      "Metabolite prot_U5RSZ9 does not use Uniprot ID.\n",
      "Metabolite prot_CAETHG_RS12370 does not use Uniprot ID.\n",
      "Metabolite prot_U5RQW2 does not use Uniprot ID.\n",
      "Metabolite prot_U5RTT7 does not use Uniprot ID.\n",
      "Metabolite prot_U5RYT6 does not use Uniprot ID.\n",
      "Metabolite prot_U5RYD5 does not use Uniprot ID.\n",
      "Metabolite prot_U5RVR3 does not use Uniprot ID.\n",
      "Metabolite prot_U5S2S9 does not use Uniprot ID.\n",
      "Metabolite prot_U5RP21 does not use Uniprot ID.\n",
      "Metabolite prot_U5S0L4 does not use Uniprot ID.\n",
      "Metabolite prot_CAETHG_RS15470 does not use Uniprot ID.\n",
      "Metabolite prot_D8GJQ3 does not use Uniprot ID.\n",
      "Metabolite prot_U5RUA1 does not use Uniprot ID.\n",
      "Metabolite prot_U5RUZ0 does not use Uniprot ID.\n",
      "Metabolite prot_U5RVG6 does not use Uniprot ID.\n",
      "Metabolite prot_U5RVC5 does not use Uniprot ID.\n",
      "Metabolite prot_U5S394 does not use Uniprot ID.\n",
      "Metabolite prot_A0A3M0SCA3 does not use Uniprot ID.\n",
      "Metabolite prot_U5RXT8 does not use Uniprot ID.\n",
      "Metabolite prot_U5RYP3 does not use Uniprot ID.\n",
      "Metabolite prot_U5RTM0 does not use Uniprot ID.\n",
      "Metabolite prot_U5RXR0 does not use Uniprot ID.\n",
      "Metabolite prot_U5S031 does not use Uniprot ID.\n",
      "Metabolite prot_U5S1I0 does not use Uniprot ID.\n",
      "Metabolite prot_U5RVY5 does not use Uniprot ID.\n",
      "Metabolite prot_U5RZ60 does not use Uniprot ID.\n",
      "Metabolite prot_U5RW45 does not use Uniprot ID.\n",
      "Metabolite prot_U5RXL7 does not use Uniprot ID.\n",
      "Metabolite prot_U5RPK6 does not use Uniprot ID.\n",
      "Metabolite prot_U5RY61 does not use Uniprot ID.\n",
      "Metabolite prot_U5RSG1 does not use Uniprot ID.\n",
      "Metabolite prot_A0A3M0SX03 does not use Uniprot ID.\n",
      "Metabolite prot_U5RYS2 does not use Uniprot ID.\n",
      "Metabolite prot_U5S013 does not use Uniprot ID.\n",
      "Metabolite prot_U5RPG2 does not use Uniprot ID.\n",
      "Metabolite prot_CAETHG_RS08510 does not use Uniprot ID.\n",
      "Metabolite prot_U5RXQ6 does not use Uniprot ID.\n",
      "Metabolite prot_CAETHG_RS08505 does not use Uniprot ID.\n",
      "Metabolite prot_A0A3M0SH10 does not use Uniprot ID.\n",
      "Metabolite prot_U5RXT7 does not use Uniprot ID.\n",
      "Metabolite prot_U5RV17 does not use Uniprot ID.\n",
      "Metabolite prot_U5RVS9 does not use Uniprot ID.\n",
      "Metabolite prot_CAETHG_RS07735 does not use Uniprot ID.\n",
      "Metabolite prot_U5RWP1 does not use Uniprot ID.\n",
      "Metabolite prot_U5RXN5 does not use Uniprot ID.\n",
      "Metabolite prot_U5RY23 does not use Uniprot ID.\n",
      "Metabolite prot_U5RP02 does not use Uniprot ID.\n",
      "Metabolite prot_U5RYI9 does not use Uniprot ID.\n",
      "Metabolite prot_CAETHG_RS19295 does not use Uniprot ID.\n",
      "Metabolite prot_U5RXH3 does not use Uniprot ID.\n",
      "Metabolite prot_U5RW34 does not use Uniprot ID.\n",
      "Metabolite prot_CAETHG_RS19855 does not use Uniprot ID.\n",
      "Metabolite prot_U5RVN5 does not use Uniprot ID.\n",
      "Metabolite prot_CAETHG_RS12970 does not use Uniprot ID.\n",
      "Metabolite prot_U5RZQ9 does not use Uniprot ID.\n",
      "Metabolite prot_U5RXI1 does not use Uniprot ID.\n",
      "Metabolite prot_U5RXH9 does not use Uniprot ID.\n",
      "Metabolite prot_U5RRN0 does not use Uniprot ID.\n",
      "Metabolite prot_U5RRM8 does not use Uniprot ID.\n",
      "Metabolite prot_U5RVU2 does not use Uniprot ID.\n",
      "Metabolite prot_U5RRC9 does not use Uniprot ID.\n",
      "Metabolite prot_U5RW61 does not use Uniprot ID.\n",
      "Metabolite prot_U5RY20 does not use Uniprot ID.\n",
      "Metabolite prot_U5RYL8 does not use Uniprot ID.\n",
      "Metabolite prot_U5RN85 does not use Uniprot ID.\n",
      "Metabolite prot_U5RY08 does not use Uniprot ID.\n",
      "Metabolite prot_U5RY09 does not use Uniprot ID.\n",
      "Metabolite prot_CAETHG_RS03090 does not use Uniprot ID.\n",
      "Metabolite prot_U5RVJ9 does not use Uniprot ID.\n",
      "Metabolite prot_U5RV36 does not use Uniprot ID.\n",
      "Metabolite prot_U5RQ44 does not use Uniprot ID.\n",
      "Metabolite prot_U5RXV3 does not use Uniprot ID.\n",
      "Metabolite prot_U5RSH3 does not use Uniprot ID.\n",
      "Metabolite prot_U5RQY9 does not use Uniprot ID.\n",
      "Metabolite prot_U5RQY7 does not use Uniprot ID.\n",
      "Metabolite prot_U5RQ34 does not use Uniprot ID.\n",
      "Metabolite prot_U5RTK9 does not use Uniprot ID.\n",
      "Metabolite prot_U5RSG6 does not use Uniprot ID.\n",
      "Metabolite prot_U5S239 does not use Uniprot ID.\n",
      "Metabolite prot_U5RSK5 does not use Uniprot ID.\n",
      "Metabolite prot_U5S0N1 does not use Uniprot ID.\n",
      "Metabolite prot_U5RWX7 does not use Uniprot ID.\n",
      "Metabolite prot_U5RYT5 does not use Uniprot ID.\n",
      "Metabolite prot_U5RUX7 does not use Uniprot ID.\n",
      "Metabolite prot_U5RZ09 does not use Uniprot ID.\n",
      "Metabolite prot_U5RXV7 does not use Uniprot ID.\n",
      "Metabolite prot_U5RNX5 does not use Uniprot ID.\n",
      "Metabolite prot_U5S347 does not use Uniprot ID.\n",
      "Metabolite prot_U5RR53 does not use Uniprot ID.\n",
      "Metabolite prot_U5RXG1 does not use Uniprot ID.\n",
      "Metabolite prot_U5RTK1 does not use Uniprot ID.\n",
      "Metabolite prot_U5RUX4 does not use Uniprot ID.\n",
      "Metabolite prot_U5RSQ7 does not use Uniprot ID.\n",
      "Metabolite prot_U5RS92 does not use Uniprot ID.\n",
      "Metabolite prot_U5RTK6 does not use Uniprot ID.\n",
      "Metabolite prot_U5RVR6 does not use Uniprot ID.\n",
      "Metabolite prot_U5RVX2 does not use Uniprot ID.\n",
      "Metabolite prot_U5RSF6 does not use Uniprot ID.\n",
      "Metabolite prot_U5S2R1 does not use Uniprot ID.\n",
      "Metabolite prot_U5RY13 does not use Uniprot ID.\n",
      "Metabolite prot_U5RSY0 does not use Uniprot ID.\n",
      "Metabolite prot_U5RRT0 does not use Uniprot ID.\n",
      "Metabolite prot_U5RV12 does not use Uniprot ID.\n",
      "Metabolite prot_U5S0P1 does not use Uniprot ID.\n",
      "Metabolite prot_U5RUW9 does not use Uniprot ID.\n",
      "Metabolite prot_U5RVF1 does not use Uniprot ID.\n",
      "Metabolite prot_U5RTG5 does not use Uniprot ID.\n",
      "Metabolite prot_U5RYX6 does not use Uniprot ID.\n",
      "Metabolite prot_U5RU08 does not use Uniprot ID.\n",
      "Metabolite prot_U5RSI1 does not use Uniprot ID.\n",
      "Metabolite prot_U5RTH7 does not use Uniprot ID.\n",
      "Metabolite prot_CAETHG_RS05090 does not use Uniprot ID.\n",
      "Metabolite prot_U5RNF0 does not use Uniprot ID.\n",
      "Metabolite prot_U5RVD8 does not use Uniprot ID.\n",
      "Metabolite prot_U5RVG0 does not use Uniprot ID.\n",
      "Metabolite prot_U5RSI2 does not use Uniprot ID.\n",
      "Metabolite prot_U5RYD6 does not use Uniprot ID.\n",
      "Metabolite prot_U5RZG9 does not use Uniprot ID.\n",
      "Metabolite prot_U5RYL6 does not use Uniprot ID.\n",
      "Metabolite prot_U5RR77 does not use Uniprot ID.\n",
      "Metabolite prot_U5RZL3 does not use Uniprot ID.\n",
      "Metabolite prot_U5RWT6 does not use Uniprot ID.\n",
      "Metabolite prot_U5S3F1 does not use Uniprot ID.\n",
      "Metabolite prot_U5RYL7 does not use Uniprot ID.\n",
      "Metabolite prot_U5RP61 does not use Uniprot ID.\n",
      "Metabolite prot_U5RNZ5 does not use Uniprot ID.\n",
      "Metabolite prot_CAETHG_RS15175 does not use Uniprot ID.\n",
      "Metabolite prot_U5RUP8 does not use Uniprot ID.\n",
      "Metabolite prot_U5RYK5 does not use Uniprot ID.\n",
      "Metabolite prot_U5RWR3 does not use Uniprot ID.\n",
      "Metabolite prot_U5RPK7 does not use Uniprot ID.\n",
      "Metabolite prot_U5RX82 does not use Uniprot ID.\n",
      "Metabolite prot_U5RPG0 does not use Uniprot ID.\n",
      "Metabolite prot_U5RWW6 does not use Uniprot ID.\n",
      "Metabolite prot_U5RXF4 does not use Uniprot ID.\n",
      "Metabolite prot_U5RXP3 does not use Uniprot ID.\n",
      "Metabolite prot_U5S2E8 does not use Uniprot ID.\n",
      "Metabolite prot_U5S2V9 does not use Uniprot ID.\n",
      "Metabolite prot_U5RRD5 does not use Uniprot ID.\n",
      "Metabolite prot_U5RU40 does not use Uniprot ID.\n",
      "Metabolite prot_U5RUB5 does not use Uniprot ID.\n",
      "Metabolite prot_U5RS14 does not use Uniprot ID.\n",
      "Metabolite prot_CAETHG_RS06345 does not use Uniprot ID.\n",
      "Metabolite prot_U5RTL3 does not use Uniprot ID.\n",
      "Metabolite prot_U5RS27 does not use Uniprot ID.\n",
      "Metabolite prot_U5RVD0 does not use Uniprot ID.\n",
      "Metabolite prot_U5RWQ9 does not use Uniprot ID.\n",
      "Metabolite prot_U5RYG9 does not use Uniprot ID.\n",
      "Metabolite prot_U5RVK5 does not use Uniprot ID.\n",
      "Metabolite prot_U5RXX6 does not use Uniprot ID.\n",
      "Metabolite prot_U5RRL6 does not use Uniprot ID.\n",
      "Metabolite prot_U5RWR6 does not use Uniprot ID.\n",
      "Metabolite prot_U5S2M1 does not use Uniprot ID.\n",
      "Metabolite prot_U5S247 does not use Uniprot ID.\n",
      "Metabolite prot_U5RQV2 does not use Uniprot ID.\n",
      "Metabolite prot_A0A3M0T3N5 does not use Uniprot ID.\n",
      "Metabolite prot_U5RW54 does not use Uniprot ID.\n",
      "Metabolite prot_CAETHG_RS03240 does not use Uniprot ID.\n",
      "Metabolite prot_U5RUH8 does not use Uniprot ID.\n",
      "Metabolite prot_U5RSY7 does not use Uniprot ID.\n",
      "Metabolite prot_U5RTN0 does not use Uniprot ID.\n",
      "Metabolite prot_U5RU33 does not use Uniprot ID.\n",
      "Metabolite prot_U5RXA5 does not use Uniprot ID.\n",
      "Metabolite prot_U5RUW5 does not use Uniprot ID.\n",
      "Metabolite prot_U5RV62 does not use Uniprot ID.\n",
      "Metabolite prot_U5RVB9 does not use Uniprot ID.\n",
      "Metabolite prot_CAETHG_RS08920 does not use Uniprot ID.\n",
      "Metabolite prot_U5RSM4 does not use Uniprot ID.\n",
      "Metabolite prot_U5RYZ0 does not use Uniprot ID.\n",
      "Metabolite prot_U5RZ90 does not use Uniprot ID.\n",
      "Metabolite prot_U5RU41 does not use Uniprot ID.\n",
      "Metabolite prot_U5RSZ4 does not use Uniprot ID.\n",
      "Metabolite prot_U5RWI7 does not use Uniprot ID.\n",
      "Metabolite prot_U5RQT1 does not use Uniprot ID.\n",
      "Metabolite prot_U5RR96 does not use Uniprot ID.\n",
      "Metabolite prot_U5RZB5 does not use Uniprot ID.\n",
      "Metabolite prot_U5RQZ2 does not use Uniprot ID.\n",
      "Metabolite prot_CAETHG_RS12920 does not use Uniprot ID.\n",
      "Metabolite prot_U5RY43 does not use Uniprot ID.\n",
      "Metabolite prot_U5RXX4 does not use Uniprot ID.\n",
      "Metabolite prot_A0A3M0S494 does not use Uniprot ID.\n",
      "Metabolite prot_U5RSV5 does not use Uniprot ID.\n",
      "Metabolite prot_A0A3M0SGX2 does not use Uniprot ID.\n",
      "Metabolite prot_CAETHG_RS12880 does not use Uniprot ID.\n",
      "Metabolite prot_U5RP20 does not use Uniprot ID.\n",
      "Metabolite prot_CAETHG_RS05665 does not use Uniprot ID.\n",
      "Metabolite prot_U5RW08 does not use Uniprot ID.\n",
      "Metabolite prot_U5RVU1 does not use Uniprot ID.\n",
      "Metabolite prot_U5RXM0 does not use Uniprot ID.\n",
      "Metabolite prot_U5RXI4 does not use Uniprot ID.\n",
      "Metabolite prot_U5RPR6 does not use Uniprot ID.\n",
      "Metabolite prot_U5RV44 does not use Uniprot ID.\n",
      "Metabolite prot_U5RWW8 does not use Uniprot ID.\n",
      "Metabolite prot_U5RPZ5 does not use Uniprot ID.\n",
      "Metabolite prot_U5RTI1 does not use Uniprot ID.\n",
      "Metabolite prot_U5RPL6 does not use Uniprot ID.\n",
      "Metabolite prot_U5RUI3 does not use Uniprot ID.\n",
      "Metabolite prot_U5RQV8 does not use Uniprot ID.\n",
      "Metabolite prot_U5RSQ2 does not use Uniprot ID.\n",
      "Metabolite prot_U5S354 does not use Uniprot ID.\n",
      "Metabolite prot_CAETHG_RS14585 does not use Uniprot ID.\n",
      "Metabolite prot_U5RVR4 does not use Uniprot ID.\n",
      "Metabolite prot_CAETHG_RS06810 does not use Uniprot ID.\n",
      "Metabolite prot_U5S0A2 does not use Uniprot ID.\n",
      "Metabolite prot_U5RSG7 does not use Uniprot ID.\n",
      "Metabolite prot_U5RWA0 does not use Uniprot ID.\n",
      "Metabolite prot_U5RW43 does not use Uniprot ID.\n",
      "Metabolite prot_U5S087 does not use Uniprot ID.\n",
      "Metabolite prot_U5RX58 does not use Uniprot ID.\n",
      "Metabolite prot_U5RVX3 does not use Uniprot ID.\n",
      "Metabolite prot_U5RVP8 does not use Uniprot ID.\n",
      "Metabolite prot_U5RTB6 does not use Uniprot ID.\n",
      "Metabolite prot_U5RWA4 does not use Uniprot ID.\n",
      "Metabolite prot_U5RZD4 does not use Uniprot ID.\n",
      "Metabolite prot_CAETHG_1621 does not use Uniprot ID.\n",
      "Metabolite prot_U5RSW0 does not use Uniprot ID.\n",
      "Metabolite prot_U5RSZ7 does not use Uniprot ID.\n",
      "Metabolite prot_CAETHG_1620 does not use Uniprot ID.\n",
      "Metabolite prot_U5S0R8 does not use Uniprot ID.\n",
      "Metabolite prot_U5RP39 does not use Uniprot ID.\n",
      "Metabolite prot_U5RPB8 does not use Uniprot ID.\n",
      "Metabolite prot_U5RT91 does not use Uniprot ID.\n",
      "Metabolite prot_U5RWM1 does not use Uniprot ID.\n",
      "Metabolite prot_CAETHG_RS04915 does not use Uniprot ID.\n",
      "Metabolite prot_U5S1B3 does not use Uniprot ID.\n",
      "Metabolite prot_U5RZS6 does not use Uniprot ID.\n",
      "Metabolite prot_U5RQG9 does not use Uniprot ID.\n",
      "Metabolite prot_U5RTZ9 does not use Uniprot ID.\n",
      "Metabolite prot_U5S018 does not use Uniprot ID.\n",
      "Metabolite prot_U5RVL0 does not use Uniprot ID.\n",
      "Metabolite prot_U5RWI0 does not use Uniprot ID.\n",
      "Metabolite prot_U5RVV0 does not use Uniprot ID.\n",
      "Metabolite prot_U5RP91 does not use Uniprot ID.\n",
      "Metabolite prot_U5S0L9 does not use Uniprot ID.\n",
      "Metabolite prot_U5RPK3 does not use Uniprot ID.\n",
      "Metabolite prot_U5RQ11 does not use Uniprot ID.\n",
      "Metabolite prot_U5RSZ6 does not use Uniprot ID.\n",
      "Metabolite prot_U5RZP7 does not use Uniprot ID.\n",
      "Metabolite prot_U5RZ45 does not use Uniprot ID.\n",
      "Metabolite prot_U5RWR1 does not use Uniprot ID.\n",
      "Metabolite prot_CAETHG_RS10995 does not use Uniprot ID.\n",
      "Metabolite prot_CAETHG_RS11000 does not use Uniprot ID.\n",
      "Metabolite prot_CAETHG_RS08750 does not use Uniprot ID.\n",
      "Metabolite prot_CAETHG_RS11005 does not use Uniprot ID.\n",
      "Metabolite prot_CAETHG_RS08745 does not use Uniprot ID.\n",
      "Metabolite prot_U5RXS7 does not use Uniprot ID.\n",
      "Metabolite prot_U5RYW1 does not use Uniprot ID.\n",
      "Metabolite prot_U5RY14 does not use Uniprot ID.\n",
      "Metabolite prot_U5RXZ3 does not use Uniprot ID.\n",
      "Metabolite prot_U5RSV9 does not use Uniprot ID.\n",
      "Metabolite prot_U5RR19 does not use Uniprot ID.\n",
      "Metabolite prot_U5RV26 does not use Uniprot ID.\n",
      "Metabolite prot_U5RPZ1 does not use Uniprot ID.\n",
      "Metabolite prot_U5RPP1 does not use Uniprot ID.\n",
      "Metabolite prot_U5RPI1 does not use Uniprot ID.\n",
      "Metabolite prot_U5RPM6 does not use Uniprot ID.\n",
      "Metabolite prot_U5RSY2 does not use Uniprot ID.\n",
      "Metabolite prot_U5RRK4 does not use Uniprot ID.\n",
      "Metabolite prot_U5RX44 does not use Uniprot ID.\n",
      "Metabolite prot_A0A3M0SHG4 does not use Uniprot ID.\n",
      "Metabolite prot_U5RW46 does not use Uniprot ID.\n",
      "Metabolite prot_U5RXD8 does not use Uniprot ID.\n",
      "Metabolite prot_U5RP14 does not use Uniprot ID.\n",
      "Metabolite prot_U5S2M2 does not use Uniprot ID.\n",
      "Metabolite prot_U5RS56 does not use Uniprot ID.\n",
      "Metabolite prot_U5RPH4 does not use Uniprot ID.\n",
      "Metabolite prot_CAETHG_RS00595 does not use Uniprot ID.\n",
      "Metabolite prot_U5RUD5 does not use Uniprot ID.\n",
      "Metabolite prot_U5RQX2 does not use Uniprot ID.\n",
      "Metabolite prot_U5S2V1 does not use Uniprot ID.\n",
      "Metabolite prot_U5RQD0 does not use Uniprot ID.\n",
      "Metabolite prot_U5RZH4 does not use Uniprot ID.\n",
      "Metabolite prot_U5RTC4 does not use Uniprot ID.\n",
      "Metabolite prot_U5RTY1 does not use Uniprot ID.\n",
      "Metabolite prot_U5RYS5 does not use Uniprot ID.\n",
      "Metabolite prot_U5RXW8 does not use Uniprot ID.\n",
      "Metabolite prot_U5RT00 does not use Uniprot ID.\n",
      "Metabolite prot_U5S2Q2 does not use Uniprot ID.\n",
      "Metabolite prot_U5RWW1 does not use Uniprot ID.\n",
      "Metabolite prot_U5RPP5 does not use Uniprot ID.\n",
      "Metabolite prot_CAETHG_RS07825 does not use Uniprot ID.\n",
      "Metabolite prot_U5RY25 does not use Uniprot ID.\n",
      "Metabolite prot_U5RU20 does not use Uniprot ID.\n",
      "Metabolite prot_U5RP66 does not use Uniprot ID.\n",
      "Metabolite prot_U5RQE5 does not use Uniprot ID.\n"
     ]
    }
   ],
   "source": [
    "ec_model = geckopy.io.read_sbml_ec_model(\"../models/eciCLAU786.xml\")"
   ]
  },
  {
   "cell_type": "markdown",
   "id": "4f9f15a7-2788-43b1-8f9e-f51af11f8394",
   "metadata": {},
   "source": [
    "Formatted version of the excel file provided at the Supplementary material of [Valgepea et al., 2022](https://journals.asm.org/doi/full/10.1128/msystems.00026-22?rfr_dat=cr_pub++0pubmed&url_ver=Z39.88-2003&rfr_id=ori%3Arid%3Acrossref.org)."
   ]
  },
  {
   "cell_type": "code",
   "execution_count": 32,
   "id": "a23532eb-b948-4fd3-ba0a-3c4c2f0433aa",
   "metadata": {
    "execution": {
     "iopub.execute_input": "2023-08-02T14:44:26.587358Z",
     "iopub.status.busy": "2023-08-02T14:44:26.587053Z",
     "iopub.status.idle": "2023-08-02T14:44:26.609769Z",
     "shell.execute_reply": "2023-08-02T14:44:26.608595Z",
     "shell.execute_reply.started": "2023-08-02T14:44:26.587332Z"
    },
    "tags": []
   },
   "outputs": [],
   "source": [
    "df_prot = pd.read_csv(\"../data/absprot_converted.tsv\", sep=\"\\t\")"
   ]
  },
  {
   "cell_type": "markdown",
   "id": "a5069537-8266-4338-a4c5-5cb02b63c826",
   "metadata": {},
   "source": [
    "The data is index by the condition and gene ID. The latter is the name of the proteins in the model."
   ]
  },
  {
   "cell_type": "code",
   "execution_count": 33,
   "id": "ccbfb8c2-1a4c-4e31-8693-5b5ca4833125",
   "metadata": {
    "execution": {
     "iopub.execute_input": "2023-08-02T14:44:32.999235Z",
     "iopub.status.busy": "2023-08-02T14:44:32.998507Z",
     "iopub.status.idle": "2023-08-02T14:44:33.012579Z",
     "shell.execute_reply": "2023-08-02T14:44:33.011832Z",
     "shell.execute_reply.started": "2023-08-02T14:44:32.999204Z"
    },
    "tags": []
   },
   "outputs": [
    {
     "data": {
      "text/html": [
       "<div>\n",
       "<style scoped>\n",
       "    .dataframe tbody tr th:only-of-type {\n",
       "        vertical-align: middle;\n",
       "    }\n",
       "\n",
       "    .dataframe tbody tr th {\n",
       "        vertical-align: top;\n",
       "    }\n",
       "\n",
       "    .dataframe thead th {\n",
       "        text-align: right;\n",
       "    }\n",
       "</style>\n",
       "<table border=\"1\" class=\"dataframe\">\n",
       "  <thead>\n",
       "    <tr style=\"text-align: right;\">\n",
       "      <th></th>\n",
       "      <th>Gene/proteinID</th>\n",
       "      <th>Brown et al. 2014 ID</th>\n",
       "      <th>Description of gene/protein product</th>\n",
       "      <th>Proposed gene name</th>\n",
       "      <th>condition</th>\n",
       "      <th>nmol/gDCW</th>\n",
       "      <th>SD</th>\n",
       "      <th>mM</th>\n",
       "      <th>logSD</th>\n",
       "    </tr>\n",
       "  </thead>\n",
       "  <tbody>\n",
       "    <tr>\n",
       "      <th>0</th>\n",
       "      <td>CAETHG_RS00020</td>\n",
       "      <td>CAETHG_0004</td>\n",
       "      <td>Glyoxylate reductase</td>\n",
       "      <td>hprA</td>\n",
       "      <td>CO</td>\n",
       "      <td>1.9</td>\n",
       "      <td>0.5</td>\n",
       "      <td>0.000782</td>\n",
       "      <td>0.258765</td>\n",
       "    </tr>\n",
       "    <tr>\n",
       "      <th>1</th>\n",
       "      <td>CAETHG_RS00020</td>\n",
       "      <td>CAETHG_0004</td>\n",
       "      <td>Glyoxylate reductase</td>\n",
       "      <td>hprA</td>\n",
       "      <td>High-H2 CO</td>\n",
       "      <td>1.7</td>\n",
       "      <td>0.9</td>\n",
       "      <td>0.000700</td>\n",
       "      <td>0.497068</td>\n",
       "    </tr>\n",
       "    <tr>\n",
       "      <th>2</th>\n",
       "      <td>CAETHG_RS00020</td>\n",
       "      <td>CAETHG_0004</td>\n",
       "      <td>Glyoxylate reductase</td>\n",
       "      <td>hprA</td>\n",
       "      <td>Syngas</td>\n",
       "      <td>1.4</td>\n",
       "      <td>0.5</td>\n",
       "      <td>0.000576</td>\n",
       "      <td>0.346479</td>\n",
       "    </tr>\n",
       "    <tr>\n",
       "      <th>3</th>\n",
       "      <td>CAETHG_RS00050</td>\n",
       "      <td>CAETHG_0011</td>\n",
       "      <td>diguanylate phosphodiesterase metal dependent h</td>\n",
       "      <td>RS00050</td>\n",
       "      <td>CO</td>\n",
       "      <td>NaN</td>\n",
       "      <td>NaN</td>\n",
       "      <td>NaN</td>\n",
       "      <td>NaN</td>\n",
       "    </tr>\n",
       "    <tr>\n",
       "      <th>4</th>\n",
       "      <td>CAETHG_RS00050</td>\n",
       "      <td>CAETHG_0011</td>\n",
       "      <td>diguanylate phosphodiesterase metal dependent h</td>\n",
       "      <td>RS00050</td>\n",
       "      <td>High-H2 CO</td>\n",
       "      <td>0.3</td>\n",
       "      <td>0.1</td>\n",
       "      <td>0.000123</td>\n",
       "      <td>0.324593</td>\n",
       "    </tr>\n",
       "  </tbody>\n",
       "</table>\n",
       "</div>"
      ],
      "text/plain": [
       "   Gene/proteinID Brown et al. 2014 ID  \\\n",
       "0  CAETHG_RS00020          CAETHG_0004   \n",
       "1  CAETHG_RS00020          CAETHG_0004   \n",
       "2  CAETHG_RS00020          CAETHG_0004   \n",
       "3  CAETHG_RS00050          CAETHG_0011   \n",
       "4  CAETHG_RS00050          CAETHG_0011   \n",
       "\n",
       "               Description of gene/protein product Proposed gene name  \\\n",
       "0                             Glyoxylate reductase               hprA   \n",
       "1                             Glyoxylate reductase               hprA   \n",
       "2                             Glyoxylate reductase               hprA   \n",
       "3  diguanylate phosphodiesterase metal dependent h            RS00050   \n",
       "4  diguanylate phosphodiesterase metal dependent h            RS00050   \n",
       "\n",
       "    condition  nmol/gDCW   SD        mM     logSD  \n",
       "0          CO        1.9  0.5  0.000782  0.258765  \n",
       "1  High-H2 CO        1.7  0.9  0.000700  0.497068  \n",
       "2      Syngas        1.4  0.5  0.000576  0.346479  \n",
       "3          CO        NaN  NaN       NaN       NaN  \n",
       "4  High-H2 CO        0.3  0.1  0.000123  0.324593  "
      ]
     },
     "execution_count": 33,
     "metadata": {},
     "output_type": "execute_result"
    }
   ],
   "source": [
    "df_prot.head()"
   ]
  },
  {
   "cell_type": "markdown",
   "id": "ceb8b15d-a1f4-46a4-9d5e-7d306c0e9b92",
   "metadata": {},
   "source": [
    "Since most of the proteins mapped to a reaction appear to be a complex (in opposition of isozymes), let's just assign them to the lowest value of the participating enzymes."
   ]
  },
  {
   "cell_type": "code",
   "execution_count": 34,
   "id": "be7ea293-f402-4112-941b-9c2b7b7e5a18",
   "metadata": {
    "execution": {
     "iopub.execute_input": "2023-08-02T14:44:33.014375Z",
     "iopub.status.busy": "2023-08-02T14:44:33.013776Z",
     "iopub.status.idle": "2023-08-02T14:44:33.018533Z",
     "shell.execute_reply": "2023-08-02T14:44:33.017647Z",
     "shell.execute_reply.started": "2023-08-02T14:44:33.014347Z"
    },
    "tags": []
   },
   "outputs": [],
   "source": [
    "model_to_map_f = {k: v for k, v in model_to_map.items() if v in reacs_in_map}"
   ]
  },
  {
   "cell_type": "code",
   "execution_count": 35,
   "id": "909144af-fbe5-4341-aad2-8347b234edc9",
   "metadata": {
    "execution": {
     "iopub.execute_input": "2023-08-02T14:44:33.020115Z",
     "iopub.status.busy": "2023-08-02T14:44:33.019510Z",
     "iopub.status.idle": "2023-08-02T14:44:33.025756Z",
     "shell.execute_reply": "2023-08-02T14:44:33.025154Z",
     "shell.execute_reply.started": "2023-08-02T14:44:33.020087Z"
    },
    "tags": []
   },
   "outputs": [],
   "source": [
    "gene_to_reac = {\n",
    "    prot.annotation[\"gene\"]: [\n",
    "        model_to_map[reac.id] for reac in prot.reactions if reac.id in model_to_map_f\n",
    "    ]\n",
    "    for prot in ec_model.proteins\n",
    "}"
   ]
  },
  {
   "cell_type": "code",
   "execution_count": 36,
   "id": "dcd51f59-d6c1-4c15-a4ec-4bc1741d0c98",
   "metadata": {
    "execution": {
     "iopub.execute_input": "2023-08-02T14:44:33.027669Z",
     "iopub.status.busy": "2023-08-02T14:44:33.027324Z",
     "iopub.status.idle": "2023-08-02T14:44:33.031239Z",
     "shell.execute_reply": "2023-08-02T14:44:33.030646Z",
     "shell.execute_reply.started": "2023-08-02T14:44:33.027643Z"
    },
    "tags": []
   },
   "outputs": [],
   "source": [
    "gene_to_reac = {k: v for k, v in gene_to_reac.items() if v}"
   ]
  },
  {
   "cell_type": "code",
   "execution_count": 37,
   "id": "ce6b298f-3e71-4dde-b38f-9f7acc106662",
   "metadata": {
    "execution": {
     "iopub.execute_input": "2023-08-02T14:44:33.032246Z",
     "iopub.status.busy": "2023-08-02T14:44:33.032008Z",
     "iopub.status.idle": "2023-08-02T14:44:33.037604Z",
     "shell.execute_reply": "2023-08-02T14:44:33.036839Z",
     "shell.execute_reply.started": "2023-08-02T14:44:33.032222Z"
    },
    "tags": []
   },
   "outputs": [],
   "source": [
    "df_prot_map = df_prot.loc[df_prot[\"Gene/proteinID\"].isin(gene_to_reac.keys()), :]"
   ]
  },
  {
   "cell_type": "code",
   "execution_count": 38,
   "id": "b29feac6-8b80-4770-90c9-15980a04c424",
   "metadata": {
    "execution": {
     "iopub.execute_input": "2023-08-02T14:44:33.039379Z",
     "iopub.status.busy": "2023-08-02T14:44:33.038663Z",
     "iopub.status.idle": "2023-08-02T14:44:33.043802Z",
     "shell.execute_reply": "2023-08-02T14:44:33.043064Z",
     "shell.execute_reply.started": "2023-08-02T14:44:33.039341Z"
    },
    "tags": []
   },
   "outputs": [],
   "source": [
    "reac_to_gene = [(reac, k) for k, v in gene_to_reac.items() for reac in v]"
   ]
  },
  {
   "cell_type": "code",
   "execution_count": 39,
   "id": "399e3e8f-ffdf-41a1-854f-5de419cc68fe",
   "metadata": {
    "execution": {
     "iopub.execute_input": "2023-08-02T14:44:33.045501Z",
     "iopub.status.busy": "2023-08-02T14:44:33.044837Z",
     "iopub.status.idle": "2023-08-02T14:44:33.050241Z",
     "shell.execute_reply": "2023-08-02T14:44:33.049507Z",
     "shell.execute_reply.started": "2023-08-02T14:44:33.045464Z"
    },
    "tags": []
   },
   "outputs": [],
   "source": [
    "reac_to_genes = {}\n",
    "for reac, gene in reac_to_gene:\n",
    "    if reac in reac_to_genes:\n",
    "        reac_to_genes[reac].append(gene)\n",
    "    else:\n",
    "        reac_to_genes[reac] = [gene]"
   ]
  },
  {
   "cell_type": "code",
   "execution_count": 40,
   "id": "88eb8c5c-3c9e-4642-8ee2-6da4bf633886",
   "metadata": {
    "execution": {
     "iopub.execute_input": "2023-08-02T14:44:33.051881Z",
     "iopub.status.busy": "2023-08-02T14:44:33.051275Z",
     "iopub.status.idle": "2023-08-02T14:44:33.056560Z",
     "shell.execute_reply": "2023-08-02T14:44:33.055895Z",
     "shell.execute_reply.started": "2023-08-02T14:44:33.051841Z"
    },
    "tags": []
   },
   "outputs": [
    {
     "name": "stderr",
     "output_type": "stream",
     "text": [
      "/tmp/ipykernel_169084/1985740672.py:1: SettingWithCopyWarning: \n",
      "A value is trying to be set on a copy of a slice from a DataFrame.\n",
      "Try using .loc[row_indexer,col_indexer] = value instead\n",
      "\n",
      "See the caveats in the documentation: https://pandas.pydata.org/pandas-docs/stable/user_guide/indexing.html#returning-a-view-versus-a-copy\n",
      "  df_prot_map[\"reaction\"] = None\n"
     ]
    }
   ],
   "source": [
    "df_prot_map[\"reaction\"] = None"
   ]
  },
  {
   "cell_type": "code",
   "execution_count": 41,
   "id": "6f2191f2-f466-44fc-aece-f012f897d2a9",
   "metadata": {
    "execution": {
     "iopub.execute_input": "2023-08-02T14:44:33.057651Z",
     "iopub.status.busy": "2023-08-02T14:44:33.057370Z",
     "iopub.status.idle": "2023-08-02T14:44:33.061588Z",
     "shell.execute_reply": "2023-08-02T14:44:33.060871Z",
     "shell.execute_reply.started": "2023-08-02T14:44:33.057629Z"
    },
    "tags": []
   },
   "outputs": [],
   "source": [
    "df_prot_map.loc[df_prot_map.mM.isna(), \"mM\"] = 0.0"
   ]
  },
  {
   "cell_type": "code",
   "execution_count": 42,
   "id": "cd1bbb0c-1ad3-45ed-a810-9cc6a2b276d4",
   "metadata": {
    "execution": {
     "iopub.execute_input": "2023-08-02T14:44:33.064073Z",
     "iopub.status.busy": "2023-08-02T14:44:33.063790Z",
     "iopub.status.idle": "2023-08-02T14:44:33.070249Z",
     "shell.execute_reply": "2023-08-02T14:44:33.069638Z",
     "shell.execute_reply.started": "2023-08-02T14:44:33.064051Z"
    },
    "tags": []
   },
   "outputs": [
    {
     "data": {
      "text/plain": [
       "'CAETHG_RS13725'"
      ]
     },
     "execution_count": 42,
     "metadata": {},
     "output_type": "execute_result"
    }
   ],
   "source": [
    "df_prot_map.loc[\n",
    "    df_prot_map[\"Gene/proteinID\"].isin([\"CAETHG_RS13725\", \"CAETHG_RS13765\"]), :\n",
    "].min()[\"Gene/proteinID\"]"
   ]
  },
  {
   "cell_type": "code",
   "execution_count": 43,
   "id": "c23492c5-949f-45ce-8dcb-746a842b1c45",
   "metadata": {
    "execution": {
     "iopub.execute_input": "2023-08-02T14:44:33.071321Z",
     "iopub.status.busy": "2023-08-02T14:44:33.071051Z",
     "iopub.status.idle": "2023-08-02T14:44:33.102133Z",
     "shell.execute_reply": "2023-08-02T14:44:33.101404Z",
     "shell.execute_reply.started": "2023-08-02T14:44:33.071300Z"
    },
    "tags": []
   },
   "outputs": [],
   "source": [
    "for reac, genes in reac_to_genes.items():\n",
    "    protein = df_prot_map.loc[df_prot_map[\"Gene/proteinID\"].isin(genes), :].min()[\n",
    "        \"Gene/proteinID\"\n",
    "    ]\n",
    "    df_prot_map.loc[df_prot_map[\"Gene/proteinID\"] == protein, \"reaction\"] = reac"
   ]
  },
  {
   "cell_type": "code",
   "execution_count": 44,
   "id": "735723a8-744c-4233-bcac-0a565d8170f0",
   "metadata": {
    "execution": {
     "iopub.execute_input": "2023-08-02T14:44:33.103451Z",
     "iopub.status.busy": "2023-08-02T14:44:33.102971Z",
     "iopub.status.idle": "2023-08-02T14:44:33.109708Z",
     "shell.execute_reply": "2023-08-02T14:44:33.108555Z",
     "shell.execute_reply.started": "2023-08-02T14:44:33.103411Z"
    },
    "tags": []
   },
   "outputs": [],
   "source": [
    "df_prot_map_sel = df_prot_map[[\"reaction\", \"condition\", \"mM\"]]"
   ]
  },
  {
   "cell_type": "code",
   "execution_count": 45,
   "id": "6136f1c4-8c1c-48ba-b54c-97f4c958fd4f",
   "metadata": {
    "execution": {
     "iopub.execute_input": "2023-08-02T14:44:33.111358Z",
     "iopub.status.busy": "2023-08-02T14:44:33.110757Z",
     "iopub.status.idle": "2023-08-02T14:44:33.117895Z",
     "shell.execute_reply": "2023-08-02T14:44:33.117094Z",
     "shell.execute_reply.started": "2023-08-02T14:44:33.111331Z"
    },
    "tags": []
   },
   "outputs": [
    {
     "name": "stderr",
     "output_type": "stream",
     "text": [
      "/tmp/ipykernel_169084/1328051487.py:1: SettingWithCopyWarning: \n",
      "A value is trying to be set on a copy of a slice from a DataFrame.\n",
      "Try using .loc[row_indexer,col_indexer] = value instead\n",
      "\n",
      "See the caveats in the documentation: https://pandas.pydata.org/pandas-docs/stable/user_guide/indexing.html#returning-a-view-versus-a-copy\n",
      "  df_prot_map_sel.condition = df_prot_map_sel.condition.str.replace(\" \", \"\").str.replace(\n"
     ]
    }
   ],
   "source": [
    "df_prot_map_sel.condition = df_prot_map_sel.condition.str.replace(\" \", \"\").str.replace(\n",
    "    \"-\", \"\"\n",
    ")"
   ]
  },
  {
   "cell_type": "code",
   "execution_count": 46,
   "id": "1e349291-ad30-427c-abce-c8fc566001b7",
   "metadata": {
    "execution": {
     "iopub.execute_input": "2023-08-02T14:44:33.119806Z",
     "iopub.status.busy": "2023-08-02T14:44:33.119118Z",
     "iopub.status.idle": "2023-08-02T14:44:33.130799Z",
     "shell.execute_reply": "2023-08-02T14:44:33.129825Z",
     "shell.execute_reply.started": "2023-08-02T14:44:33.119755Z"
    },
    "tags": []
   },
   "outputs": [
    {
     "data": {
      "text/html": [
       "<div>\n",
       "<style scoped>\n",
       "    .dataframe tbody tr th:only-of-type {\n",
       "        vertical-align: middle;\n",
       "    }\n",
       "\n",
       "    .dataframe tbody tr th {\n",
       "        vertical-align: top;\n",
       "    }\n",
       "\n",
       "    .dataframe thead th {\n",
       "        text-align: right;\n",
       "    }\n",
       "</style>\n",
       "<table border=\"1\" class=\"dataframe\">\n",
       "  <thead>\n",
       "    <tr style=\"text-align: right;\">\n",
       "      <th></th>\n",
       "      <th>metabolite</th>\n",
       "      <th>condition</th>\n",
       "      <th>avg</th>\n",
       "      <th>log scale sigma</th>\n",
       "      <th>mM</th>\n",
       "      <th>map_id</th>\n",
       "    </tr>\n",
       "  </thead>\n",
       "  <tbody>\n",
       "    <tr>\n",
       "      <th>0</th>\n",
       "      <td>3pg+2pg</td>\n",
       "      <td>CO</td>\n",
       "      <td>0.000220</td>\n",
       "      <td>0.0323214708714787</td>\n",
       "      <td>0.000220</td>\n",
       "      <td>3pg_c</td>\n",
       "    </tr>\n",
       "    <tr>\n",
       "      <th>1</th>\n",
       "      <td>3pg+2pg</td>\n",
       "      <td>HighH2CO</td>\n",
       "      <td>0.000254</td>\n",
       "      <td>0.0215937379844198</td>\n",
       "      <td>0.000254</td>\n",
       "      <td>3pg_c</td>\n",
       "    </tr>\n",
       "    <tr>\n",
       "      <th>2</th>\n",
       "      <td>3pg+2pg</td>\n",
       "      <td>Syngas</td>\n",
       "      <td>0.000473</td>\n",
       "      <td>0.0976187084056288</td>\n",
       "      <td>0.000473</td>\n",
       "      <td>3pg_c</td>\n",
       "    </tr>\n",
       "    <tr>\n",
       "      <th>3</th>\n",
       "      <td>5mthf</td>\n",
       "      <td>CO</td>\n",
       "      <td>0.000037</td>\n",
       "      <td>1.0</td>\n",
       "      <td>0.000037</td>\n",
       "      <td>5mthf_c</td>\n",
       "    </tr>\n",
       "    <tr>\n",
       "      <th>4</th>\n",
       "      <td>5mthf</td>\n",
       "      <td>HighH2CO</td>\n",
       "      <td>0.000037</td>\n",
       "      <td>1.0</td>\n",
       "      <td>0.000037</td>\n",
       "      <td>5mthf_c</td>\n",
       "    </tr>\n",
       "  </tbody>\n",
       "</table>\n",
       "</div>"
      ],
      "text/plain": [
       "  metabolite condition       avg     log scale sigma        mM   map_id\n",
       "0    3pg+2pg        CO  0.000220  0.0323214708714787  0.000220    3pg_c\n",
       "1    3pg+2pg  HighH2CO  0.000254  0.0215937379844198  0.000254    3pg_c\n",
       "2    3pg+2pg    Syngas  0.000473  0.0976187084056288  0.000473    3pg_c\n",
       "3      5mthf        CO  0.000037                 1.0  0.000037  5mthf_c\n",
       "4      5mthf  HighH2CO  0.000037                 1.0  0.000037  5mthf_c"
      ]
     },
     "execution_count": 46,
     "metadata": {},
     "output_type": "execute_result"
    }
   ],
   "source": [
    "df_met.head()"
   ]
  },
  {
   "cell_type": "markdown",
   "id": "e1d0ea66-9cc0-47ac-82a7-5196b1e687ab",
   "metadata": {},
   "source": [
    "### ggshu"
   ]
  },
  {
   "cell_type": "markdown",
   "id": "871b6595-a184-4b8c-abd7-d060fd744be4",
   "metadata": {},
   "source": [
    "Once all the data is tidied, ggshu can be used to generate the input for shu.\n",
    "\n",
    "We want three mappings:\n",
    "\n",
    "1. Enzyme concentrations for each condition as coloured boxes at the right hand side of the reaction.\n",
    "2. Flux density funcions for each condition at the left hand side of the reaction.\n",
    "3. Use the arrow color to indicate if there is data (1 and 2) for that particular reaction.\n",
    "4. Concentration as the color and size of the reactions themselves."
   ]
  },
  {
   "cell_type": "code",
   "execution_count": 47,
   "id": "19494431-792e-4eca-b28e-612cdb444b96",
   "metadata": {
    "execution": {
     "iopub.execute_input": "2023-08-02T14:44:33.131973Z",
     "iopub.status.busy": "2023-08-02T14:44:33.131714Z",
     "iopub.status.idle": "2023-08-02T14:44:33.136778Z",
     "shell.execute_reply": "2023-08-02T14:44:33.135457Z",
     "shell.execute_reply.started": "2023-08-02T14:44:33.131946Z"
    },
    "tags": []
   },
   "outputs": [],
   "source": [
    "samples_map.reaction = samples_map.map_id"
   ]
  },
  {
   "cell_type": "markdown",
   "id": "2f69a3b2-9314-4f85-a3e1-384023a93f16",
   "metadata": {},
   "source": [
    "Utility function to perform the merge of enzyme concentrations and fluxes."
   ]
  },
  {
   "cell_type": "code",
   "execution_count": 48,
   "id": "ac0cdb43-5aaf-4d63-9af4-e9bda5f9f90e",
   "metadata": {
    "execution": {
     "iopub.execute_input": "2023-08-02T14:44:33.138386Z",
     "iopub.status.busy": "2023-08-02T14:44:33.137768Z",
     "iopub.status.idle": "2023-08-02T14:44:33.143744Z",
     "shell.execute_reply": "2023-08-02T14:44:33.143076Z",
     "shell.execute_reply.started": "2023-08-02T14:44:33.138352Z"
    },
    "tags": []
   },
   "outputs": [],
   "source": [
    "def select_group_no_na(y: pd.Series, var: str):\n",
    "    x = y.copy()\n",
    "    if not x[var].isna().all():\n",
    "        x[var] = x[var].dropna().iloc[0]\n",
    "    return x"
   ]
  },
  {
   "cell_type": "markdown",
   "id": "600454ad-72a5-48b7-956e-4babd90d69cc",
   "metadata": {},
   "source": [
    "Collapse rows with only mM into the flux rows."
   ]
  },
  {
   "cell_type": "code",
   "execution_count": 49,
   "id": "8337b147-828e-4292-a927-2925a6cef4df",
   "metadata": {
    "execution": {
     "iopub.execute_input": "2023-08-02T14:44:33.144852Z",
     "iopub.status.busy": "2023-08-02T14:44:33.144607Z",
     "iopub.status.idle": "2023-08-02T14:44:33.426269Z",
     "shell.execute_reply": "2023-08-02T14:44:33.425425Z",
     "shell.execute_reply.started": "2023-08-02T14:44:33.144830Z"
    }
   },
   "outputs": [],
   "source": [
    "df_reac = (\n",
    "    pd.concat(\n",
    "        [df_prot_map_sel, samples_map],\n",
    "        keys=[\"condition\", \"reaction\"],\n",
    "        join=\"outer\",\n",
    "    )\n",
    "    .groupby([\"reaction\", \"condition\"], group_keys=False)\n",
    "    .apply(select_group_no_na, var=\"mM\")\n",
    "    .reset_index(drop=True)\n",
    ")"
   ]
  },
  {
   "cell_type": "code",
   "execution_count": 50,
   "id": "9d997c69-233c-4196-b574-ecc341d3518c",
   "metadata": {
    "execution": {
     "iopub.execute_input": "2023-08-02T14:44:33.427722Z",
     "iopub.status.busy": "2023-08-02T14:44:33.427230Z",
     "iopub.status.idle": "2023-08-02T14:44:33.434010Z",
     "shell.execute_reply": "2023-08-02T14:44:33.433152Z",
     "shell.execute_reply.started": "2023-08-02T14:44:33.427694Z"
    },
    "tags": []
   },
   "outputs": [],
   "source": [
    "df_reac[\"has_data\"] = ~(df_reac.mM.isna() & df_reac.flux.isna())\n",
    "df_reac.has_data = df_reac.has_data.astype(int)"
   ]
  },
  {
   "cell_type": "code",
   "execution_count": 51,
   "id": "3e0b4cd7-e214-42aa-a34f-19a9d956fe73",
   "metadata": {
    "execution": {
     "iopub.execute_input": "2023-08-02T14:44:33.435424Z",
     "iopub.status.busy": "2023-08-02T14:44:33.435110Z",
     "iopub.status.idle": "2023-08-02T14:44:33.450413Z",
     "shell.execute_reply": "2023-08-02T14:44:33.449242Z",
     "shell.execute_reply.started": "2023-08-02T14:44:33.435396Z"
    }
   },
   "outputs": [
    {
     "data": {
      "text/html": [
       "<div>\n",
       "<style scoped>\n",
       "    .dataframe tbody tr th:only-of-type {\n",
       "        vertical-align: middle;\n",
       "    }\n",
       "\n",
       "    .dataframe tbody tr th {\n",
       "        vertical-align: top;\n",
       "    }\n",
       "\n",
       "    .dataframe thead th {\n",
       "        text-align: right;\n",
       "    }\n",
       "</style>\n",
       "<table border=\"1\" class=\"dataframe\">\n",
       "  <thead>\n",
       "    <tr style=\"text-align: right;\">\n",
       "      <th></th>\n",
       "      <th>reaction</th>\n",
       "      <th>condition</th>\n",
       "      <th>mM</th>\n",
       "      <th>flux</th>\n",
       "      <th>map_id</th>\n",
       "      <th>has_data</th>\n",
       "    </tr>\n",
       "  </thead>\n",
       "  <tbody>\n",
       "    <tr>\n",
       "      <th>0</th>\n",
       "      <td>leq000004_c0</td>\n",
       "      <td>CO</td>\n",
       "      <td>0.091704</td>\n",
       "      <td>NaN</td>\n",
       "      <td>NaN</td>\n",
       "      <td>1</td>\n",
       "    </tr>\n",
       "    <tr>\n",
       "      <th>1</th>\n",
       "      <td>leq000004_c0</td>\n",
       "      <td>HighH2CO</td>\n",
       "      <td>0.094833</td>\n",
       "      <td>NaN</td>\n",
       "      <td>NaN</td>\n",
       "      <td>1</td>\n",
       "    </tr>\n",
       "    <tr>\n",
       "      <th>2</th>\n",
       "      <td>leq000004_c0</td>\n",
       "      <td>Syngas</td>\n",
       "      <td>0.071701</td>\n",
       "      <td>NaN</td>\n",
       "      <td>NaN</td>\n",
       "      <td>1</td>\n",
       "    </tr>\n",
       "    <tr>\n",
       "      <th>3</th>\n",
       "      <td>PGI</td>\n",
       "      <td>CO</td>\n",
       "      <td>0.001194</td>\n",
       "      <td>NaN</td>\n",
       "      <td>NaN</td>\n",
       "      <td>1</td>\n",
       "    </tr>\n",
       "    <tr>\n",
       "      <th>4</th>\n",
       "      <td>PGI</td>\n",
       "      <td>HighH2CO</td>\n",
       "      <td>0.000000</td>\n",
       "      <td>NaN</td>\n",
       "      <td>NaN</td>\n",
       "      <td>1</td>\n",
       "    </tr>\n",
       "    <tr>\n",
       "      <th>...</th>\n",
       "      <td>...</td>\n",
       "      <td>...</td>\n",
       "      <td>...</td>\n",
       "      <td>...</td>\n",
       "      <td>...</td>\n",
       "      <td>...</td>\n",
       "    </tr>\n",
       "    <tr>\n",
       "      <th>72034</th>\n",
       "      <td>cpd00221_ext_b</td>\n",
       "      <td>HighH2CO</td>\n",
       "      <td>NaN</td>\n",
       "      <td>0.001045</td>\n",
       "      <td>cpd00221_ext_b</td>\n",
       "      <td>1</td>\n",
       "    </tr>\n",
       "    <tr>\n",
       "      <th>72035</th>\n",
       "      <td>cpd00221_ext_b</td>\n",
       "      <td>Syngas</td>\n",
       "      <td>NaN</td>\n",
       "      <td>0.000664</td>\n",
       "      <td>cpd00221_ext_b</td>\n",
       "      <td>1</td>\n",
       "    </tr>\n",
       "    <tr>\n",
       "      <th>72036</th>\n",
       "      <td>cpd00221_ext_b</td>\n",
       "      <td>CO</td>\n",
       "      <td>NaN</td>\n",
       "      <td>0.009752</td>\n",
       "      <td>cpd00221_ext_b</td>\n",
       "      <td>1</td>\n",
       "    </tr>\n",
       "    <tr>\n",
       "      <th>72037</th>\n",
       "      <td>cpd00221_ext_b</td>\n",
       "      <td>HighH2CO</td>\n",
       "      <td>NaN</td>\n",
       "      <td>0.010361</td>\n",
       "      <td>cpd00221_ext_b</td>\n",
       "      <td>1</td>\n",
       "    </tr>\n",
       "    <tr>\n",
       "      <th>72038</th>\n",
       "      <td>cpd00221_ext_b</td>\n",
       "      <td>Syngas</td>\n",
       "      <td>NaN</td>\n",
       "      <td>0.000490</td>\n",
       "      <td>cpd00221_ext_b</td>\n",
       "      <td>1</td>\n",
       "    </tr>\n",
       "  </tbody>\n",
       "</table>\n",
       "<p>72039 rows × 6 columns</p>\n",
       "</div>"
      ],
      "text/plain": [
       "             reaction condition        mM      flux          map_id  has_data\n",
       "0        leq000004_c0        CO  0.091704       NaN             NaN         1\n",
       "1        leq000004_c0  HighH2CO  0.094833       NaN             NaN         1\n",
       "2        leq000004_c0    Syngas  0.071701       NaN             NaN         1\n",
       "3                 PGI        CO  0.001194       NaN             NaN         1\n",
       "4                 PGI  HighH2CO  0.000000       NaN             NaN         1\n",
       "...               ...       ...       ...       ...             ...       ...\n",
       "72034  cpd00221_ext_b  HighH2CO       NaN  0.001045  cpd00221_ext_b         1\n",
       "72035  cpd00221_ext_b    Syngas       NaN  0.000664  cpd00221_ext_b         1\n",
       "72036  cpd00221_ext_b        CO       NaN  0.009752  cpd00221_ext_b         1\n",
       "72037  cpd00221_ext_b  HighH2CO       NaN  0.010361  cpd00221_ext_b         1\n",
       "72038  cpd00221_ext_b    Syngas       NaN  0.000490  cpd00221_ext_b         1\n",
       "\n",
       "[72039 rows x 6 columns]"
      ]
     },
     "execution_count": 51,
     "metadata": {},
     "output_type": "execute_result"
    }
   ],
   "source": [
    "df_reac"
   ]
  },
  {
   "cell_type": "code",
   "execution_count": 53,
   "id": "45c81af1-cb44-4662-9c03-eeb591ec3c3f",
   "metadata": {
    "execution": {
     "iopub.execute_input": "2023-08-02T14:45:09.135970Z",
     "iopub.status.busy": "2023-08-02T14:45:09.135345Z",
     "iopub.status.idle": "2023-08-02T14:45:09.984747Z",
     "shell.execute_reply": "2023-08-02T14:45:09.984206Z",
     "shell.execute_reply.started": "2023-08-02T14:45:09.135927Z"
    },
    "tags": []
   },
   "outputs": [
    {
     "name": "stderr",
     "output_type": "stream",
     "text": [
      "Geom data coerced distribution data to means.\n",
      "Geom data coerced distribution data to means.\n",
      "Geom data coerced distribution data to means.\n"
     ]
    }
   ],
   "source": [
    "(\n",
    "    (\n",
    "        ggshu.ggmap(\n",
    "            df_reac,\n",
    "            ggshu.aes(reaction=\"reaction\", color=\"mM\", condition=\"condition\", y=\"flux\"),\n",
    "        )\n",
    "        + ggshu.geom_boxpoint()\n",
    "        + ggshu.geom_kde(side=\"left\")\n",
    "        #+ ggshu.geom_arrow(aes=ggshu.aes(color=\"has_data\", size=\"has_data\"))\n",
    "    )\n",
    "    # instead of using pandas to merge the above dataframe with the metabolite concentrations\n",
    "    # we use the ggshu operator \"/\" to merge the two resulting grammar objects for convenience\n",
    "    / (\n",
    "        ggshu.ggmap(\n",
    "            df_met,\n",
    "            ggshu.aes(\n",
    "                metabolite=\"map_id\", color=\"mM\", size=\"mM\", condition=\"condition\"\n",
    "            ),\n",
    "        )\n",
    "        + ggshu.geom_metabolite()\n",
    "    )\n",
    ").to_json(\"../data/omics\")"
   ]
  }
 ],
 "metadata": {
  "kernelspec": {
   "display_name": "gecko",
   "language": "python",
   "name": "gecko"
  },
  "language_info": {
   "codemirror_mode": {
    "name": "ipython",
    "version": 3
   },
   "file_extension": ".py",
   "mimetype": "text/x-python",
   "name": "python",
   "nbconvert_exporter": "python",
   "pygments_lexer": "ipython3",
   "version": "3.9.15"
  }
 },
 "nbformat": 4,
 "nbformat_minor": 5
}
